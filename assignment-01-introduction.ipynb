{
 "cells": [
  {
   "cell_type": "markdown",
   "metadata": {
    "ein.tags": "worksheet-0",
    "slideshow": {
     "slide_type": "-"
    }
   },
   "source": [
    "# Simple commands\n",
    "1. Log into your system. What are the user id (username) and password?\n",
    "2. Launch a terminal. Identify the prompt. What is it?\n",
    "3. Launch a terminal, maximize the window. Define a profile with the\n",
    "color built-in scheme \\`\\`Black on light yellow''. Set your new\n",
    "profile as the default profile.\n",
    "4. Try these commands:"
   ]
  },
  {
   "cell_type": "code",
   "execution_count": 3,
   "metadata": {},
   "outputs": [
    {
     "name": "stdout",
     "output_type": "stream",
     "text": [
      "Linux\n"
     ]
    }
   ],
   "source": [
    "uname"
   ]
  },
  {
   "cell_type": "code",
   "execution_count": null,
   "metadata": {},
   "outputs": [
    {
     "name": "stdout",
     "output_type": "stream",
     "text": [
      "Changing password for lakshmi.\n"
     ]
    }
   ],
   "source": [
    "passwd"
   ]
  },
  {
   "cell_type": "raw",
   "metadata": {},
   "source": [
    "2. The primary prompt is a dollar sign ($)"
   ]
  },
  {
   "cell_type": "raw",
   "metadata": {},
   "source": [
    "3. Edit > Preferences > Colors > Text and Background colors"
   ]
  },
  {
   "cell_type": "markdown",
   "metadata": {
    "ein.tags": "worksheet-0",
    "slideshow": {
     "slide_type": "-"
    }
   },
   "source": [
    "## `echo`\n",
    "- `echo string`\n",
    "- `echo *`\n",
    "- `echo`"
   ]
  },
  {
   "cell_type": "code",
   "execution_count": 1,
   "metadata": {
    "autoscroll": false,
    "ein.hycell": false,
    "ein.tags": "worksheet-0",
    "slideshow": {
     "slide_type": "-"
    }
   },
   "outputs": [
    {
     "name": "stdout",
     "output_type": "stream",
     "text": [
      "Hello, bash!\n"
     ]
    }
   ],
   "source": [
    "echo \"Hello, bash!\""
   ]
  },
  {
   "cell_type": "code",
   "execution_count": 3,
   "metadata": {},
   "outputs": [
    {
     "name": "stdout",
     "output_type": "stream",
     "text": [
      "anaconda3 assignment assignment-01-introduction.ipynb assignment-02-filesystem.ipynb backup backups business commands Desktop Documents Downloads examples.desktop hello hello.c Hello.class Hello.java junk letters Music Pictures poem.txt Public reports Templates Untitled.ipynb Videos\n"
     ]
    }
   ],
   "source": [
    "echo *"
   ]
  },
  {
   "cell_type": "markdown",
   "metadata": {
    "ein.tags": "worksheet-0",
    "slideshow": {
     "slide_type": "-"
    }
   },
   "source": [
    "## `date`\n",
    "-   Print date in dd-mm-yyyy format. Refer to the `man` page for\n",
    "    `date` to find out the option for this format.\n",
    "    ``` {.example}\n",
    "    man date\n",
    "    ```\n",
    "-   Print time in hh-mm-ss format, hh is 0-24 hours.\n",
    "\n"
   ]
  },
  {
   "cell_type": "code",
   "execution_count": 1,
   "metadata": {},
   "outputs": [
    {
     "name": "stdout",
     "output_type": "stream",
     "text": [
      "DATE(1)                          User Commands                         DATE(1)\n",
      "\n",
      "NAME\n",
      "       date - print or set the system date and time\n",
      "\n",
      "SYNOPSIS\n",
      "       date [OPTION]... [+FORMAT]\n",
      "       date [-u|--utc|--universal] [MMDDhhmm[[CC]YY][.ss]]\n",
      "\n",
      "DESCRIPTION\n",
      "       Display the current time in the given FORMAT, or set the system date.\n",
      "\n",
      "       Mandatory  arguments  to  long  options are mandatory for short options\n",
      "       too.\n",
      "\n",
      "       -d, --date=STRING\n",
      "              display time described by STRING, not 'now'\n",
      "\n",
      "       --debug\n",
      "              annotate the parsed date, and warn about questionable  usage  to\n",
      "              stderr\n",
      "\n",
      "       -f, --file=DATEFILE\n",
      "              like --date; once for each line of DATEFILE\n",
      "\n",
      "       -I[FMT], --iso-8601[=FMT]\n",
      "              output  date/time  in ISO 8601 format.  FMT='date' for date only\n",
      "              (the default), 'hours', 'minutes', 'seconds', or 'ns'  for  date\n",
      "              and    time    to    the    indicated    precision.     Example:\n",
      "              2006-08-14T02:34:56-06:00\n",
      "\n",
      "       -R, --rfc-email\n",
      "              output date and time in RFC 5322 format.  Example: Mon,  14  Aug\n",
      "              2006 02:34:56 -0600\n",
      "\n",
      "       --rfc-3339=FMT\n",
      "              output  date/time in RFC 3339 format.  FMT='date', 'seconds', or\n",
      "              'ns' for date and time to  the  indicated  precision.   Example:\n",
      "              2006-08-14 02:34:56-06:00\n",
      "\n",
      "       -r, --reference=FILE\n",
      "              display the last modification time of FILE\n",
      "\n",
      "       -s, --set=STRING\n",
      "              set time described by STRING\n",
      "\n",
      "       -u, --utc, --universal\n",
      "              print or set Coordinated Universal Time (UTC)\n",
      "\n",
      "       --help display this help and exit\n",
      "\n",
      "       --version\n",
      "              output version information and exit\n",
      "\n",
      "       FORMAT controls the output.  Interpreted sequences are:\n",
      "\n",
      "       %%     a literal %\n",
      "\n",
      "       %a     locale's abbreviated weekday name (e.g., Sun)\n",
      "\n",
      "       %A     locale's full weekday name (e.g., Sunday)\n",
      "\n",
      "       %b     locale's abbreviated month name (e.g., Jan)\n",
      "\n",
      "       %B     locale's full month name (e.g., January)\n",
      "\n",
      "       %c     locale's date and time (e.g., Thu Mar  3 23:05:25 2005)\n",
      "\n",
      "       %C     century; like %Y, except omit last two digits (e.g., 20)\n",
      "\n",
      "       %d     day of month (e.g., 01)\n",
      "\n",
      "       %D     date; same as %m/%d/%y\n",
      "\n",
      "       %e     day of month, space padded; same as %_d\n",
      "\n",
      "       %F     full date; same as %Y-%m-%d\n",
      "\n",
      "       %g     last two digits of year of ISO week number (see %G)\n",
      "\n",
      "       %G     year of ISO week number (see %V); normally useful only with %V\n",
      "\n",
      "       %h     same as %b\n",
      "\n",
      "       %H     hour (00..23)\n",
      "\n",
      "       %I     hour (01..12)\n",
      "\n",
      "       %j     day of year (001..366)\n",
      "\n",
      "       %k     hour, space padded ( 0..23); same as %_H\n",
      "\n",
      "       %l     hour, space padded ( 1..12); same as %_I\n",
      "\n",
      "       %m     month (01..12)\n",
      "\n",
      "       %M     minute (00..59)\n",
      "\n",
      "       %n     a newline\n",
      "\n",
      "       %N     nanoseconds (000000000..999999999)\n",
      "\n",
      "       %p     locale's equivalent of either AM or PM; blank if not known\n",
      "\n",
      "       %P     like %p, but lower case\n",
      "\n",
      "       %q     quarter of year (1..4)\n",
      "\n",
      "       %r     locale's 12-hour clock time (e.g., 11:11:04 PM)\n",
      "\n",
      "       %R     24-hour hour and minute; same as %H:%M\n",
      "\n",
      "       %s     seconds since 1970-01-01 00:00:00 UTC\n",
      "\n",
      "       %S     second (00..60)\n",
      "\n",
      "       %t     a tab\n",
      "\n",
      "       %T     time; same as %H:%M:%S\n",
      "\n",
      "       %u     day of week (1..7); 1 is Monday\n",
      "\n",
      "       %U     week number of year, with Sunday as first day of week (00..53)\n",
      "\n",
      "       %V     ISO week number, with Monday as first day of week (01..53)\n",
      "\n",
      "       %w     day of week (0..6); 0 is Sunday\n",
      "\n",
      "       %W     week number of year, with Monday as first day of week (00..53)\n",
      "\n",
      "       %x     locale's date representation (e.g., 12/31/99)\n",
      "\n",
      "       %X     locale's time representation (e.g., 23:13:48)\n",
      "\n",
      "       %y     last two digits of year (00..99)\n",
      "\n",
      "       %Y     year\n",
      "\n",
      "       %z     +hhmm numeric time zone (e.g., -0400)\n",
      "\n",
      "       %:z    +hh:mm numeric time zone (e.g., -04:00)\n",
      "\n",
      "       %::z   +hh:mm:ss numeric time zone (e.g., -04:00:00)\n",
      "\n",
      "       %:::z  numeric  time  zone  with  :  to necessary precision (e.g., -04,\n",
      "              +05:30)\n",
      "\n",
      "       %Z     alphabetic time zone abbreviation (e.g., EDT)\n",
      "\n",
      "       By default, date  pads  numeric  fields  with  zeroes.   The  following\n",
      "       optional flags may follow '%':\n",
      "\n",
      "       -      (hyphen) do not pad the field\n",
      "\n",
      "       _      (underscore) pad with spaces\n",
      "\n",
      "       0      (zero) pad with zeros\n",
      "\n",
      "       ^      use upper case if possible\n",
      "\n",
      "       #      use opposite case if possible\n",
      "\n",
      "       After  any  flags  comes  an optional field width, as a decimal number;\n",
      "       then an optional modifier, which is either E to use the locale's alter‐\n",
      "       nate  representations  if available, or O to use the locale's alternate\n",
      "       numeric symbols if available.\n",
      "\n",
      "EXAMPLES\n",
      "       Convert seconds since the epoch (1970-01-01 UTC) to a date\n",
      "\n",
      "              $ date --date='@2147483647'\n",
      "\n",
      "       Show the time on the west coast of the US (use tzselect(1) to find TZ)\n",
      "\n",
      "              $ TZ='America/Los_Angeles' date\n",
      "\n",
      "       Show the local time for 9AM next Friday on the west coast of the US\n",
      "\n",
      "              $ date --date='TZ=\"America/Los_Angeles\" 09:00 next Fri'\n",
      "\n",
      "DATE STRING\n",
      "       The --date=STRING is a mostly free format human  readable  date  string\n",
      "       such  as  \"Sun, 29 Feb 2004 16:21:42 -0800\" or \"2004-02-29 16:21:42\" or\n",
      "       even \"next Thursday\".  A date string may contain items indicating  cal‐\n",
      "       endar  date,  time of day, time zone, day of week, relative time, rela‐\n",
      "       tive date, and numbers.  An empty string indicates the beginning of the\n",
      "       day.   The date string format is more complex than is easily documented\n",
      "       here but is fully described in the info documentation.\n",
      "\n",
      "AUTHOR\n",
      "       Written by David MacKenzie.\n",
      "\n",
      "REPORTING BUGS\n",
      "       GNU coreutils online help: <http://www.gnu.org/software/coreutils/>\n",
      "       Report date translation bugs to <http://translationproject.org/team/>\n",
      "\n",
      "COPYRIGHT\n",
      "       Copyright © 2017 Free Software Foundation, Inc.   License  GPLv3+:  GNU\n",
      "       GPL version 3 or later <http://gnu.org/licenses/gpl.html>.\n",
      "       This  is  free  software:  you  are free to change and redistribute it.\n",
      "       There is NO WARRANTY, to the extent permitted by law.\n",
      "\n",
      "SEE ALSO\n",
      "       Full documentation at: <http://www.gnu.org/software/coreutils/date>\n",
      "       or available locally via: info '(coreutils) date invocation'\n",
      "\n",
      "GNU coreutils 8.28               January 2018                          DATE(1)\n"
     ]
    }
   ],
   "source": [
    "man date"
   ]
  },
  {
   "cell_type": "code",
   "execution_count": 6,
   "metadata": {},
   "outputs": [
    {
     "name": "stdout",
     "output_type": "stream",
     "text": [
      "DATE: \n",
      "01-09-2019\n"
     ]
    }
   ],
   "source": [
    "echo \"DATE: \"\n",
    "date \"+%d-%m-%Y\""
   ]
  },
  {
   "cell_type": "code",
   "execution_count": 7,
   "metadata": {},
   "outputs": [
    {
     "name": "stdout",
     "output_type": "stream",
     "text": [
      "TIME: \n",
      "17-18-13\n"
     ]
    }
   ],
   "source": [
    "echo \"TIME: \"\n",
    "date \"+%H-%M-%S\""
   ]
  },
  {
   "cell_type": "markdown",
   "metadata": {
    "ein.tags": "worksheet-0",
    "slideshow": {
     "slide_type": "-"
    }
   },
   "source": [
    "## `cal`\n",
    "-   Print the calendar for the current month.\n",
    "-   Print the calendar for year 2020.\n",
    "-   Print the calendar for July 2020."
   ]
  },
  {
   "cell_type": "code",
   "execution_count": 8,
   "metadata": {},
   "outputs": [
    {
     "name": "stdout",
     "output_type": "stream",
     "text": [
      "   September 2019     \n",
      "Su Mo Tu We Th Fr Sa  \n",
      "\u001b[7m 1\u001b[27m  2  3  4  5  6  7  \n",
      " 8  9 10 11 12 13 14  \n",
      "15 16 17 18 19 20 21  \n",
      "22 23 24 25 26 27 28  \n",
      "29 30                 \n",
      "                      \n"
     ]
    }
   ],
   "source": [
    "cal"
   ]
  },
  {
   "cell_type": "code",
   "execution_count": 9,
   "metadata": {},
   "outputs": [
    {
     "name": "stdout",
     "output_type": "stream",
     "text": [
      "                            2020\n",
      "      January               February               March          \n",
      "Su Mo Tu We Th Fr Sa  Su Mo Tu We Th Fr Sa  Su Mo Tu We Th Fr Sa  \n",
      "          1  2  3  4                     1   1  2  3  4  5  6  7  \n",
      " 5  6  7  8  9 10 11   2  3  4  5  6  7  8   8  9 10 11 12 13 14  \n",
      "12 13 14 15 16 17 18   9 10 11 12 13 14 15  15 16 17 18 19 20 21  \n",
      "19 20 21 22 23 24 25  16 17 18 19 20 21 22  22 23 24 25 26 27 28  \n",
      "26 27 28 29 30 31     23 24 25 26 27 28 29  29 30 31              \n",
      "                                                                  \n",
      "\n",
      "       April                  May                   June          \n",
      "Su Mo Tu We Th Fr Sa  Su Mo Tu We Th Fr Sa  Su Mo Tu We Th Fr Sa  \n",
      "          1  2  3  4                  1  2      1  2  3  4  5  6  \n",
      " 5  6  7  8  9 10 11   3  4  5  6  7  8  9   7  8  9 10 11 12 13  \n",
      "12 13 14 15 16 17 18  10 11 12 13 14 15 16  14 15 16 17 18 19 20  \n",
      "19 20 21 22 23 24 25  17 18 19 20 21 22 23  21 22 23 24 25 26 27  \n",
      "26 27 28 29 30        24 25 26 27 28 29 30  28 29 30              \n",
      "                      31                                          \n",
      "\n",
      "        July                 August              September        \n",
      "Su Mo Tu We Th Fr Sa  Su Mo Tu We Th Fr Sa  Su Mo Tu We Th Fr Sa  \n",
      "          1  2  3  4                     1         1  2  3  4  5  \n",
      " 5  6  7  8  9 10 11   2  3  4  5  6  7  8   6  7  8  9 10 11 12  \n",
      "12 13 14 15 16 17 18   9 10 11 12 13 14 15  13 14 15 16 17 18 19  \n",
      "19 20 21 22 23 24 25  16 17 18 19 20 21 22  20 21 22 23 24 25 26  \n",
      "26 27 28 29 30 31     23 24 25 26 27 28 29  27 28 29 30           \n",
      "                      30 31                                       \n",
      "\n",
      "      October               November              December        \n",
      "Su Mo Tu We Th Fr Sa  Su Mo Tu We Th Fr Sa  Su Mo Tu We Th Fr Sa  \n",
      "             1  2  3   1  2  3  4  5  6  7         1  2  3  4  5  \n",
      " 4  5  6  7  8  9 10   8  9 10 11 12 13 14   6  7  8  9 10 11 12  \n",
      "11 12 13 14 15 16 17  15 16 17 18 19 20 21  13 14 15 16 17 18 19  \n",
      "18 19 20 21 22 23 24  22 23 24 25 26 27 28  20 21 22 23 24 25 26  \n",
      "25 26 27 28 29 30 31  29 30                 27 28 29 30 31        \n",
      "                                                                  \n"
     ]
    }
   ],
   "source": [
    "cal 2020"
   ]
  },
  {
   "cell_type": "code",
   "execution_count": 10,
   "metadata": {},
   "outputs": [
    {
     "name": "stdout",
     "output_type": "stream",
     "text": [
      "     July 2020        \n",
      "Su Mo Tu We Th Fr Sa  \n",
      "          1  2  3  4  \n",
      " 5  6  7  8  9 10 11  \n",
      "12 13 14 15 16 17 18  \n",
      "19 20 21 22 23 24 25  \n",
      "26 27 28 29 30 31     \n",
      "                      \n"
     ]
    }
   ],
   "source": [
    "cal July 2020"
   ]
  },
  {
   "cell_type": "markdown",
   "metadata": {
    "ein.tags": "worksheet-0",
    "slideshow": {
     "slide_type": "-"
    }
   },
   "source": [
    "## `who`, `whoami`"
   ]
  },
  {
   "cell_type": "code",
   "execution_count": 1,
   "metadata": {},
   "outputs": [
    {
     "name": "stdout",
     "output_type": "stream",
     "text": [
      "lakshmi  :0           2019-09-03 18:13 (:0)\n"
     ]
    }
   ],
   "source": [
    "who"
   ]
  },
  {
   "cell_type": "code",
   "execution_count": 2,
   "metadata": {},
   "outputs": [
    {
     "name": "stdout",
     "output_type": "stream",
     "text": [
      "lakshmi\n"
     ]
    }
   ],
   "source": [
    "whoami"
   ]
  },
  {
   "cell_type": "markdown",
   "metadata": {
    "ein.tags": "worksheet-0",
    "slideshow": {
     "slide_type": "-"
    }
   },
   "source": [
    "## `uname`\n",
    "   - options `-a`, `-s`, `-r`, `-sr`"
   ]
  },
  {
   "cell_type": "code",
   "execution_count": 13,
   "metadata": {},
   "outputs": [
    {
     "name": "stdout",
     "output_type": "stream",
     "text": [
      "Linux LakshmiPriya 4.15.0-29-generic #31-Ubuntu SMP Tue Jul 17 15:39:52 UTC 2018 x86_64 x86_64 x86_64 GNU/Linux\n"
     ]
    }
   ],
   "source": [
    "uname -a"
   ]
  },
  {
   "cell_type": "code",
   "execution_count": 14,
   "metadata": {},
   "outputs": [
    {
     "name": "stdout",
     "output_type": "stream",
     "text": [
      "Linux\n"
     ]
    }
   ],
   "source": [
    "uname -s"
   ]
  },
  {
   "cell_type": "code",
   "execution_count": 15,
   "metadata": {},
   "outputs": [
    {
     "name": "stdout",
     "output_type": "stream",
     "text": [
      "4.15.0-29-generic\n"
     ]
    }
   ],
   "source": [
    "uname -r"
   ]
  },
  {
   "cell_type": "code",
   "execution_count": 16,
   "metadata": {},
   "outputs": [
    {
     "name": "stdout",
     "output_type": "stream",
     "text": [
      "Linux 4.15.0-29-generic\n"
     ]
    }
   ],
   "source": [
    "uname -sr"
   ]
  },
  {
   "cell_type": "markdown",
   "metadata": {
    "ein.tags": "worksheet-0",
    "slideshow": {
     "slide_type": "-"
    }
   },
   "source": [
    "## `df -h`\n",
    "-   How many partitions does your hard disk have? What is the\n",
    "    total size of the disk?"
   ]
  },
  {
   "cell_type": "code",
   "execution_count": 17,
   "metadata": {},
   "outputs": [
    {
     "name": "stdout",
     "output_type": "stream",
     "text": [
      "Filesystem      Size  Used Avail Use% Mounted on\n",
      "udev            5.8G     0  5.8G   0% /dev\n",
      "tmpfs           1.2G  2.1M  1.2G   1% /run\n",
      "/dev/nvme0n1p6   99G   11G   83G  12% /\n",
      "tmpfs           5.8G  113M  5.7G   2% /dev/shm\n",
      "tmpfs           5.0M  4.0K  5.0M   1% /run/lock\n",
      "tmpfs           5.8G     0  5.8G   0% /sys/fs/cgroup\n",
      "/dev/loop0       35M   35M     0 100% /snap/gtk-common-themes/319\n",
      "/dev/loop1       87M   87M     0 100% /snap/core/4917\n",
      "/dev/loop2       15M   15M     0 100% /snap/gnome-logs/37\n",
      "/dev/loop3      3.8M  3.8M     0 100% /snap/gnome-system-monitor/51\n",
      "/dev/loop5       13M   13M     0 100% /snap/gnome-characters/103\n",
      "/dev/loop4      141M  141M     0 100% /snap/gnome-3-26-1604/70\n",
      "/dev/loop6      2.4M  2.4M     0 100% /snap/gnome-calculator/180\n",
      "/dev/nvme0n1p1  256M   57M  200M  23% /boot/efi\n",
      "tmpfs           1.2G   16K  1.2G   1% /run/user/121\n",
      "tmpfs           1.2G   36K  1.2G   1% /run/user/1000\n",
      "/dev/loop7       89M   89M     0 100% /snap/core/7396\n",
      "/dev/loop8       55M   55M     0 100% /snap/core18/1074\n",
      "/dev/loop9      141M  141M     0 100% /snap/gnome-3-26-1604/90\n",
      "/dev/loop10     1.0M  1.0M     0 100% /snap/gnome-logs/61\n",
      "/dev/loop11     3.8M  3.8M     0 100% /snap/gnome-system-monitor/100\n",
      "/dev/loop12     4.2M  4.2M     0 100% /snap/gnome-calculator/406\n",
      "/dev/loop13      15M   15M     0 100% /snap/gnome-characters/317\n",
      "/dev/loop14      43M   43M     0 100% /snap/gtk-common-themes/1313\n",
      "/dev/loop15     150M  150M     0 100% /snap/gnome-3-28-1804/71\n"
     ]
    }
   ],
   "source": [
    "df -h"
   ]
  },
  {
   "cell_type": "markdown",
   "metadata": {
    "ein.tags": "worksheet-0",
    "slideshow": {
     "slide_type": "-"
    }
   },
   "source": [
    "## `history`"
   ]
  },
  {
   "cell_type": "code",
   "execution_count": 18,
   "metadata": {},
   "outputs": [
    {
     "name": "stdout",
     "output_type": "stream",
     "text": [
      "    1  who\n",
      "    2  whoami\n",
      "    3  sudo\n",
      "    4  gcc -version\n",
      "    5  sudo apt update\n",
      "    6  sudo apt install build-essential\n",
      "    7  sudo apt-get install manpages-dev\n",
      "    8  gcc --version\n",
      "    9  sudo apt install gcc\n",
      "   10  gcc --version\n",
      "   11  gcc hello.c -o hello\n",
      "   12  sudo apt install build-essential\n",
      "   13  cPackage 'build-essential' has no installation candidate\n",
      "   14  sudo apt update\n",
      "   15  sudo apt install build-essential\n",
      "   16  sudo apt-get install manpages-dev\n",
      "   17  gcc --version\n",
      "   18  gcc hello.c -o hello\n",
      "   19  ./hello\n",
      "   20  gedit &\n",
      "   21  javac Hello.java\n",
      "   22  sudo apt install default-jdk\n",
      "   23  javac Hello.java\n",
      "   24  java Hello\n",
      "   25  javac Hello.java\n",
      "   26  java Hello\n",
      "   27  chmod +x Anaconda3-2019.07-Linux-x86_64.sh\n",
      "   28  sudo chmod +x Anaconda3-2019.07-Linux-x86_64.sh\n",
      "   29  cd downloads\n",
      "   30  cd download\n",
      "   31  cd downloads\n",
      "   32  cd ..\n",
      "   33  cd downloads\n",
      "   34  cd Downloads\n",
      "   35  ls\n",
      "   36  cd home\n",
      "   37  ls\n",
      "   38  cd lakshmi\n",
      "   39  ls\n",
      "   40  cd Downloads\n",
      "   41  sudo chmod +x Anaconda3-2019.07-Linux-x86_64.sh\n",
      "   42  ./Anaconda3-2019.07-Linux-x86_64.sh\n",
      "   43  exit\n",
      "   44  who\n",
      "   45  sudo pip install bash_kernal\n",
      "   46  sudo pip install bash_kernel\n",
      "   47  pip install bash_kernel\n",
      "   48  python -m bash_kernel.install\n",
      "   49  jupyter test\n",
      "   50  which python\n",
      "   51  jupyter nb\n",
      "   52  exot\n",
      "   53  exit\n",
      "   54  jupyter notebook\n",
      "   55  PS1='[PEXP\\[\\]ECT_PROMPT>' PS2='[PEXP\\[\\]ECT_PROMPT+' PROMPT_COMMAND=''\n",
      "   56  export PAGER=cat\n",
      "   57  display () {     TMPFILE=$(mktemp ${TMPDIR-/tmp}/bash_kernel.XXXXXXXXXX);     cat > $TMPFILE;     echo \"bash_kernel: saved image data to: $TMPFILE\" >&2; }\n",
      "   58  echo \"Hello, bash!\"\n",
      "   59  echo $?\n",
      "   60  user\n",
      "   61  echo $?\n",
      "   62  uname\n",
      "   63  echo $?\n",
      "   64  passwd\n",
      "   65  PS1='[PEXP\\[\\]ECT_PROMPT>' PS2='[PEXP\\[\\]ECT_PROMPT+' PROMPT_COMMAND=''\n",
      "   66  export PAGER=cat\n",
      "   67  display () {     TMPFILE=$(mktemp ${TMPDIR-/tmp}/bash_kernel.XXXXXXXXXX);     cat > $TMPFILE;     echo \"bash_kernel: saved image data to: $TMPFILE\" >&2; }\n",
      "   68  man date\n",
      "   69  echo $?\n",
      "   70  date \"+%H-%M-%S\"\n",
      "   71  echo $?\n",
      "   72  date \"Date : +%H-%M-%S\"\n",
      "   73  echo $?\n",
      "   74  date \"+%H-%M-%S\"\n",
      "   75  echo $?\n",
      "   76  date \"+%d-%m-%Y\"\n",
      "   77  echo $?\n",
      "   78  echo \"DATE: \"\n",
      "   79  date \"+%d-%m-%Y\"\n",
      "   80  echo $?\n",
      "   81  echo \"TIME: \"\n",
      "   82  date \"+%H-%M-%S\"\n",
      "   83  echo $?\n",
      "   84  cal\n",
      "   85  echo $?\n",
      "   86  cal 2020\n",
      "   87  echo $?\n",
      "   88  cal July 2020\n",
      "   89  echo $?\n",
      "   90  passwd\n",
      "   91  echo $?\n",
      "   92  uname -a\n",
      "   93  echo $?\n",
      "   94  uname -s\n",
      "   95  echo $?\n",
      "   96  uname -r\n",
      "   97  echo $?\n",
      "   98  uname -sr\n",
      "   99  echo $?\n",
      "  100  df -h\n",
      "  101  echo $?\n",
      "  102  history\n"
     ]
    }
   ],
   "source": [
    "history"
   ]
  },
  {
   "cell_type": "markdown",
   "metadata": {
    "ein.tags": "worksheet-0",
    "slideshow": {
     "slide_type": "-"
    }
   },
   "source": [
    "## `clear`\n"
   ]
  },
  {
   "cell_type": "code",
   "execution_count": 19,
   "metadata": {},
   "outputs": [
    {
     "name": "stdout",
     "output_type": "stream",
     "text": [
      "\u001b[3J\u001b[H\u001b[2J"
     ]
    }
   ],
   "source": [
    "clear"
   ]
  },
  {
   "cell_type": "markdown",
   "metadata": {
    "ein.tags": "worksheet-0",
    "slideshow": {
     "slide_type": "-"
    }
   },
   "source": [
    "# Files\n",
    "## `cat`\n",
    "-   Create a file `poem.txt` with\n",
    "    ``` {.example}\n",
    "    cat > poem.txt\n",
    "    ```\n",
    "    and typing the lines on the `stdin` (standard input).\n",
    "-   Print (display) the contents of `poem.txt` on `stdout`\n",
    "    (standard output)\n",
    "\n"
   ]
  },
  {
   "cell_type": "code",
   "execution_count": null,
   "metadata": {},
   "outputs": [],
   "source": [
    "cat > poem.txt"
   ]
  },
  {
   "cell_type": "code",
   "execution_count": 5,
   "metadata": {},
   "outputs": [
    {
     "name": "stdout",
     "output_type": "stream",
     "text": [
      "If you always try your best\n",
      "Then you'll never have to wonder\n",
      "About what you could have done\n",
      "If you'd summoned all your thunder.\n",
      "\n",
      "And if your best\n",
      "Was not as good\n",
      "As you hoped it would be,\n",
      "You still could say,\n",
      "\"I gave today\n",
      "All that I had in me.\"\n"
     ]
    }
   ],
   "source": [
    "cat poem.txt"
   ]
  },
  {
   "cell_type": "markdown",
   "metadata": {
    "ein.tags": "worksheet-0",
    "slideshow": {
     "slide_type": "-"
    }
   },
   "source": [
    "##  `touch`\n",
    "-   `touch poem` to update the time stamp of `poem.txt`\n",
    "-   Create a new empty file with `touch newpoem.txt`. Check the size\n",
    "    of `newpoem.txt`.\n",
    "-   Create `another-poem.txt`."
   ]
  },
  {
   "cell_type": "code",
   "execution_count": 6,
   "metadata": {},
   "outputs": [],
   "source": [
    "touch poem.txt"
   ]
  },
  {
   "cell_type": "code",
   "execution_count": 7,
   "metadata": {},
   "outputs": [],
   "source": [
    "touch newpoem.txt"
   ]
  },
  {
   "cell_type": "code",
   "execution_count": 8,
   "metadata": {},
   "outputs": [
    {
     "name": "stdout",
     "output_type": "stream",
     "text": [
      "-rw-r--r-- 1 lakshmi lakshmi 0 Sep  3 18:28 newpoem.txt\n"
     ]
    }
   ],
   "source": [
    "ls -l newpoem.txt"
   ]
  },
  {
   "cell_type": "code",
   "execution_count": 9,
   "metadata": {},
   "outputs": [],
   "source": [
    "touch another-poem.txt"
   ]
  },
  {
   "cell_type": "markdown",
   "metadata": {
    "ein.tags": "worksheet-0",
    "slideshow": {
     "slide_type": "-"
    }
   },
   "source": [
    "## `ls`\n",
    "-   List the contents of your home directory.\n",
    "-   List the contents of your home directory.\n",
    "    -   long format\n",
    "    -   modified time order\n",
    "    -   reverse modified time order\n",
    "\n"
   ]
  },
  {
   "cell_type": "code",
   "execution_count": 10,
   "metadata": {},
   "outputs": [
    {
     "name": "stdout",
     "output_type": "stream",
     "text": [
      "\u001b[0m\u001b[01;34manaconda3\u001b[0m                         \u001b[01;34mbusiness\u001b[0m          hello.c      \u001b[01;34mPictures\u001b[0m\n",
      "another-poem.txt                  commands          Hello.class  poem.txt\n",
      "\u001b[01;34massignment\u001b[0m                        \u001b[01;34mDesktop\u001b[0m           Hello.java   \u001b[01;34mPublic\u001b[0m\n",
      "assignment-01-introduction.ipynb  \u001b[01;34mDocuments\u001b[0m         \u001b[01;34mjunk\u001b[0m         \u001b[01;34mreports\u001b[0m\n",
      "assignment-02-filesystem.ipynb    \u001b[01;34mDownloads\u001b[0m         \u001b[01;34mletters\u001b[0m      \u001b[01;34mTemplates\u001b[0m\n",
      "backup                            examples.desktop  \u001b[01;34mMusic\u001b[0m        Untitled.ipynb\n",
      "\u001b[01;34mbackups\u001b[0m                           \u001b[01;32mhello\u001b[0m             newpoem.txt  \u001b[01;34mVideos\u001b[0m\n"
     ]
    }
   ],
   "source": [
    "ls"
   ]
  },
  {
   "cell_type": "code",
   "execution_count": 11,
   "metadata": {},
   "outputs": [
    {
     "name": "stdout",
     "output_type": "stream",
     "text": [
      "total 244\n",
      "drwxr-xr-x 183 lakshmi lakshmi 12288 Aug 31 21:42 \u001b[0m\u001b[01;34manaconda3\u001b[0m\n",
      "-rw-r--r--   1 lakshmi lakshmi     0 Sep  3 18:28 another-poem.txt\n",
      "drwxr-xr-x   3 lakshmi lakshmi  4096 Sep  1 19:32 \u001b[01;34massignment\u001b[0m\n",
      "-rw-rw-r--   1 lakshmi lakshmi 36787 Sep  3 18:27 assignment-01-introduction.ipynb\n",
      "-rw-rw-r--   1 lakshmi lakshmi 22853 Sep  3 18:20 assignment-02-filesystem.ipynb\n",
      "-rw-r--r--   1 lakshmi lakshmi    50 Sep  3 14:01 backup\n",
      "drwxr-xr-x   2 lakshmi lakshmi  4096 Sep  3 14:02 \u001b[01;34mbackups\u001b[0m\n",
      "drwxr-xr-x   3 lakshmi lakshmi  4096 Sep  3 18:20 \u001b[01;34mbusiness\u001b[0m\n",
      "-rw-rw-r--   1 lakshmi lakshmi 67554 Sep  1 17:11 commands\n",
      "drwxr-xr-x   2 lakshmi lakshmi  4096 Sep  1 05:37 \u001b[01;34mDesktop\u001b[0m\n",
      "drwxr-xr-x   2 lakshmi lakshmi  4096 Sep  1 05:37 \u001b[01;34mDocuments\u001b[0m\n",
      "drwxr-xr-x   2 lakshmi lakshmi  4096 Sep  3 18:19 \u001b[01;34mDownloads\u001b[0m\n",
      "-rw-r--r--   1 lakshmi lakshmi  8980 Sep  1 00:03 examples.desktop\n",
      "-rwxr-xr-x   1 lakshmi lakshmi  8304 Aug 31 21:06 \u001b[01;32mhello\u001b[0m\n",
      "-rw-rw-r--   1 lakshmi lakshmi    51 Sep  1 07:55 hello.c\n",
      "-rw-r--r--   1 lakshmi lakshmi   399 Aug 31 21:22 Hello.class\n",
      "-rw-r--r--   1 lakshmi lakshmi    85 Aug 31 21:21 Hello.java\n",
      "drwxr-xr-x   3 lakshmi lakshmi  4096 Sep  1 19:16 \u001b[01;34mjunk\u001b[0m\n",
      "drwxr-xr-x   3 lakshmi lakshmi  4096 Sep  3 18:20 \u001b[01;34mletters\u001b[0m\n",
      "drwxr-xr-x   2 lakshmi lakshmi  4096 Sep  1 05:37 \u001b[01;34mMusic\u001b[0m\n",
      "-rw-r--r--   1 lakshmi lakshmi     0 Sep  3 18:28 newpoem.txt\n",
      "drwxr-xr-x   2 lakshmi lakshmi  4096 Sep  1 05:37 \u001b[01;34mPictures\u001b[0m\n",
      "-rw-r--r--   1 lakshmi lakshmi   246 Sep  3 18:27 poem.txt\n",
      "drwxr-xr-x   2 lakshmi lakshmi  4096 Sep  1 05:37 \u001b[01;34mPublic\u001b[0m\n",
      "drwxr-xr-x   5 lakshmi lakshmi  4096 Sep  1 19:32 \u001b[01;34mreports\u001b[0m\n",
      "drwxr-xr-x   2 lakshmi lakshmi  4096 Sep  1 05:37 \u001b[01;34mTemplates\u001b[0m\n",
      "-rw-r--r--   1 lakshmi lakshmi    72 Sep  1 19:31 Untitled.ipynb\n",
      "drwxr-xr-x   2 lakshmi lakshmi  4096 Sep  1 05:37 \u001b[01;34mVideos\u001b[0m\n"
     ]
    }
   ],
   "source": [
    "ls -l"
   ]
  },
  {
   "cell_type": "code",
   "execution_count": 12,
   "metadata": {},
   "outputs": [
    {
     "name": "stdout",
     "output_type": "stream",
     "text": [
      "total 244\n",
      "-rw-r--r--   1 lakshmi lakshmi     0 Sep  3 18:28 another-poem.txt\n",
      "-rw-r--r--   1 lakshmi lakshmi     0 Sep  3 18:28 newpoem.txt\n",
      "-rw-r--r--   1 lakshmi lakshmi   246 Sep  3 18:27 poem.txt\n",
      "-rw-rw-r--   1 lakshmi lakshmi 36787 Sep  3 18:27 assignment-01-introduction.ipynb\n",
      "-rw-rw-r--   1 lakshmi lakshmi 22853 Sep  3 18:20 assignment-02-filesystem.ipynb\n",
      "drwxr-xr-x   3 lakshmi lakshmi  4096 Sep  3 18:20 \u001b[0m\u001b[01;34mbusiness\u001b[0m\n",
      "drwxr-xr-x   3 lakshmi lakshmi  4096 Sep  3 18:20 \u001b[01;34mletters\u001b[0m\n",
      "drwxr-xr-x   2 lakshmi lakshmi  4096 Sep  3 18:19 \u001b[01;34mDownloads\u001b[0m\n",
      "drwxr-xr-x   2 lakshmi lakshmi  4096 Sep  3 14:02 \u001b[01;34mbackups\u001b[0m\n",
      "-rw-r--r--   1 lakshmi lakshmi    50 Sep  3 14:01 backup\n",
      "drwxr-xr-x   3 lakshmi lakshmi  4096 Sep  1 19:32 \u001b[01;34massignment\u001b[0m\n",
      "drwxr-xr-x   5 lakshmi lakshmi  4096 Sep  1 19:32 \u001b[01;34mreports\u001b[0m\n",
      "-rw-r--r--   1 lakshmi lakshmi    72 Sep  1 19:31 Untitled.ipynb\n",
      "drwxr-xr-x   3 lakshmi lakshmi  4096 Sep  1 19:16 \u001b[01;34mjunk\u001b[0m\n",
      "-rw-rw-r--   1 lakshmi lakshmi 67554 Sep  1 17:11 commands\n",
      "-rw-rw-r--   1 lakshmi lakshmi    51 Sep  1 07:55 hello.c\n",
      "drwxr-xr-x   2 lakshmi lakshmi  4096 Sep  1 05:37 \u001b[01;34mDesktop\u001b[0m\n",
      "drwxr-xr-x   2 lakshmi lakshmi  4096 Sep  1 05:37 \u001b[01;34mDocuments\u001b[0m\n",
      "drwxr-xr-x   2 lakshmi lakshmi  4096 Sep  1 05:37 \u001b[01;34mMusic\u001b[0m\n",
      "drwxr-xr-x   2 lakshmi lakshmi  4096 Sep  1 05:37 \u001b[01;34mPictures\u001b[0m\n",
      "drwxr-xr-x   2 lakshmi lakshmi  4096 Sep  1 05:37 \u001b[01;34mPublic\u001b[0m\n",
      "drwxr-xr-x   2 lakshmi lakshmi  4096 Sep  1 05:37 \u001b[01;34mTemplates\u001b[0m\n",
      "drwxr-xr-x   2 lakshmi lakshmi  4096 Sep  1 05:37 \u001b[01;34mVideos\u001b[0m\n",
      "-rw-r--r--   1 lakshmi lakshmi  8980 Sep  1 00:03 examples.desktop\n",
      "drwxr-xr-x 183 lakshmi lakshmi 12288 Aug 31 21:42 \u001b[01;34manaconda3\u001b[0m\n",
      "-rw-r--r--   1 lakshmi lakshmi   399 Aug 31 21:22 Hello.class\n",
      "-rw-r--r--   1 lakshmi lakshmi    85 Aug 31 21:21 Hello.java\n",
      "-rwxr-xr-x   1 lakshmi lakshmi  8304 Aug 31 21:06 \u001b[01;32mhello\u001b[0m\n"
     ]
    }
   ],
   "source": [
    "ls -lt"
   ]
  },
  {
   "cell_type": "code",
   "execution_count": 13,
   "metadata": {},
   "outputs": [
    {
     "name": "stdout",
     "output_type": "stream",
     "text": [
      "total 244\n",
      "-rwxr-xr-x   1 lakshmi lakshmi  8304 Aug 31 21:06 \u001b[0m\u001b[01;32mhello\u001b[0m\n",
      "-rw-r--r--   1 lakshmi lakshmi    85 Aug 31 21:21 Hello.java\n",
      "-rw-r--r--   1 lakshmi lakshmi   399 Aug 31 21:22 Hello.class\n",
      "drwxr-xr-x 183 lakshmi lakshmi 12288 Aug 31 21:42 \u001b[01;34manaconda3\u001b[0m\n",
      "-rw-r--r--   1 lakshmi lakshmi  8980 Sep  1 00:03 examples.desktop\n",
      "drwxr-xr-x   2 lakshmi lakshmi  4096 Sep  1 05:37 \u001b[01;34mVideos\u001b[0m\n",
      "drwxr-xr-x   2 lakshmi lakshmi  4096 Sep  1 05:37 \u001b[01;34mTemplates\u001b[0m\n",
      "drwxr-xr-x   2 lakshmi lakshmi  4096 Sep  1 05:37 \u001b[01;34mPublic\u001b[0m\n",
      "drwxr-xr-x   2 lakshmi lakshmi  4096 Sep  1 05:37 \u001b[01;34mPictures\u001b[0m\n",
      "drwxr-xr-x   2 lakshmi lakshmi  4096 Sep  1 05:37 \u001b[01;34mMusic\u001b[0m\n",
      "drwxr-xr-x   2 lakshmi lakshmi  4096 Sep  1 05:37 \u001b[01;34mDocuments\u001b[0m\n",
      "drwxr-xr-x   2 lakshmi lakshmi  4096 Sep  1 05:37 \u001b[01;34mDesktop\u001b[0m\n",
      "-rw-rw-r--   1 lakshmi lakshmi    51 Sep  1 07:55 hello.c\n",
      "-rw-rw-r--   1 lakshmi lakshmi 67554 Sep  1 17:11 commands\n",
      "drwxr-xr-x   3 lakshmi lakshmi  4096 Sep  1 19:16 \u001b[01;34mjunk\u001b[0m\n",
      "-rw-r--r--   1 lakshmi lakshmi    72 Sep  1 19:31 Untitled.ipynb\n",
      "drwxr-xr-x   5 lakshmi lakshmi  4096 Sep  1 19:32 \u001b[01;34mreports\u001b[0m\n",
      "drwxr-xr-x   3 lakshmi lakshmi  4096 Sep  1 19:32 \u001b[01;34massignment\u001b[0m\n",
      "-rw-r--r--   1 lakshmi lakshmi    50 Sep  3 14:01 backup\n",
      "drwxr-xr-x   2 lakshmi lakshmi  4096 Sep  3 14:02 \u001b[01;34mbackups\u001b[0m\n",
      "drwxr-xr-x   2 lakshmi lakshmi  4096 Sep  3 18:19 \u001b[01;34mDownloads\u001b[0m\n",
      "drwxr-xr-x   3 lakshmi lakshmi  4096 Sep  3 18:20 \u001b[01;34mletters\u001b[0m\n",
      "drwxr-xr-x   3 lakshmi lakshmi  4096 Sep  3 18:20 \u001b[01;34mbusiness\u001b[0m\n",
      "-rw-rw-r--   1 lakshmi lakshmi 22853 Sep  3 18:20 assignment-02-filesystem.ipynb\n",
      "-rw-rw-r--   1 lakshmi lakshmi 36787 Sep  3 18:27 assignment-01-introduction.ipynb\n",
      "-rw-r--r--   1 lakshmi lakshmi   246 Sep  3 18:27 poem.txt\n",
      "-rw-r--r--   1 lakshmi lakshmi     0 Sep  3 18:28 newpoem.txt\n",
      "-rw-r--r--   1 lakshmi lakshmi     0 Sep  3 18:28 another-poem.txt\n"
     ]
    }
   ],
   "source": [
    "ls -ltr"
   ]
  },
  {
   "cell_type": "markdown",
   "metadata": {
    "ein.tags": "worksheet-0",
    "slideshow": {
     "slide_type": "-"
    }
   },
   "source": [
    "# Filesystem\n",
    "## ``pwd``\n",
    "   -   What is your home directory?\n"
   ]
  },
  {
   "cell_type": "code",
   "execution_count": 14,
   "metadata": {},
   "outputs": [
    {
     "name": "stdout",
     "output_type": "stream",
     "text": [
      "/home/lakshmi\n"
     ]
    }
   ],
   "source": [
    "pwd"
   ]
  },
  {
   "cell_type": "markdown",
   "metadata": {
    "ein.tags": "worksheet-0",
    "slideshow": {
     "slide_type": "-"
    }
   },
   "source": [
    "## `cd`\n",
    "   -   Move to your home directory."
   ]
  },
  {
   "cell_type": "code",
   "execution_count": 15,
   "metadata": {},
   "outputs": [],
   "source": [
    "cd"
   ]
  },
  {
   "cell_type": "code",
   "execution_count": 16,
   "metadata": {},
   "outputs": [
    {
     "name": "stdout",
     "output_type": "stream",
     "text": [
      "/home/lakshmi\n"
     ]
    }
   ],
   "source": [
    "pwd"
   ]
  },
  {
   "cell_type": "markdown",
   "metadata": {
    "ein.tags": "worksheet-0",
    "slideshow": {
     "slide_type": "-"
    }
   },
   "source": [
    "## `mkdir`\n",
    "   -   Create a directory `myname` in your home.\n",
    "   -   Move to `myname`.\n",
    "   -   In `myname`, create the following directory structure. Check\n",
    "       with `tree`.\n",
    "       ``` {.example}\n",
    "      +-- junk\n",
    "      +-- recipes\n",
    "          +-- cookie\n",
    "          |   +-- choc.chip\n",
    "          +-- pie\n",
    "              +-- apple\n",
    "              +-- crust\n",
    "      ```"
   ]
  },
  {
   "cell_type": "code",
   "execution_count": 17,
   "metadata": {},
   "outputs": [],
   "source": [
    "mkdir myname"
   ]
  },
  {
   "cell_type": "code",
   "execution_count": 18,
   "metadata": {},
   "outputs": [],
   "source": [
    "cd myname"
   ]
  },
  {
   "cell_type": "code",
   "execution_count": 19,
   "metadata": {},
   "outputs": [],
   "source": [
    "mkdir -p junk recipes/cookie/choc.chip recipes/pie/apple recipes/pie/crust"
   ]
  },
  {
   "cell_type": "code",
   "execution_count": 21,
   "metadata": {},
   "outputs": [
    {
     "name": "stdout",
     "output_type": "stream",
     "text": [
      "\u001b[01;34m.\u001b[00m\n",
      "├── \u001b[01;34mjunk\u001b[00m\n",
      "└── \u001b[01;34mrecipes\u001b[00m\n",
      "    ├── \u001b[01;34mcookie\u001b[00m\n",
      "    │   └── \u001b[01;34mchoc.chip\u001b[00m\n",
      "    └── \u001b[01;34mpie\u001b[00m\n",
      "        ├── \u001b[01;34mapple\u001b[00m\n",
      "        └── \u001b[01;34mcrust\u001b[00m\n",
      "\n",
      "7 directories, 0 files\n"
     ]
    }
   ],
   "source": [
    "tree"
   ]
  },
  {
   "cell_type": "markdown",
   "metadata": {
    "ein.tags": "worksheet-0",
    "slideshow": {
     "slide_type": "-"
    }
   },
   "source": [
    "-   Move to `crust`."
   ]
  },
  {
   "cell_type": "code",
   "execution_count": 26,
   "metadata": {},
   "outputs": [],
   "source": [
    "cd recipes/pie/crust"
   ]
  },
  {
   "cell_type": "code",
   "execution_count": 27,
   "metadata": {},
   "outputs": [
    {
     "name": "stdout",
     "output_type": "stream",
     "text": [
      "/home/lakshmi/myname/recipes/pie/crust\n"
     ]
    }
   ],
   "source": [
    "pwd"
   ]
  },
  {
   "cell_type": "markdown",
   "metadata": {
    "ein.tags": "worksheet-0",
    "slideshow": {
     "slide_type": "-"
    }
   },
   "source": [
    "-   Move to `choc.chip`."
   ]
  },
  {
   "cell_type": "code",
   "execution_count": 28,
   "metadata": {},
   "outputs": [],
   "source": [
    "cd ../../cookie/choc.chip"
   ]
  },
  {
   "cell_type": "code",
   "execution_count": 29,
   "metadata": {},
   "outputs": [
    {
     "name": "stdout",
     "output_type": "stream",
     "text": [
      "/home/lakshmi/myname/recipes/cookie/choc.chip\n"
     ]
    }
   ],
   "source": [
    "pwd"
   ]
  },
  {
   "cell_type": "markdown",
   "metadata": {
    "ein.tags": "worksheet-0",
    "slideshow": {
     "slide_type": "-"
    }
   },
   "source": [
    "-   Move to `myhome`."
   ]
  },
  {
   "cell_type": "code",
   "execution_count": 30,
   "metadata": {},
   "outputs": [],
   "source": [
    "cd ../../.."
   ]
  },
  {
   "cell_type": "code",
   "execution_count": 31,
   "metadata": {},
   "outputs": [
    {
     "name": "stdout",
     "output_type": "stream",
     "text": [
      "/home/lakshmi/myname\n"
     ]
    }
   ],
   "source": [
    "pwd"
   ]
  },
  {
   "cell_type": "markdown",
   "metadata": {
    "ein.tags": "worksheet-0",
    "slideshow": {
     "slide_type": "-"
    }
   },
   "source": [
    "## `rmdir`\n",
    "   -   Create a file `dish1` in `apple`."
   ]
  },
  {
   "cell_type": "code",
   "execution_count": 44,
   "metadata": {},
   "outputs": [],
   "source": [
    "cd"
   ]
  },
  {
   "cell_type": "code",
   "execution_count": 45,
   "metadata": {},
   "outputs": [],
   "source": [
    "touch recipes/pie/apple/dish1.txt"
   ]
  },
  {
   "cell_type": "markdown",
   "metadata": {
    "ein.tags": "worksheet-0",
    "slideshow": {
     "slide_type": "-"
    }
   },
   "source": [
    "-   Remove directory `apple`."
   ]
  },
  {
   "cell_type": "code",
   "execution_count": 46,
   "metadata": {},
   "outputs": [
    {
     "name": "stdout",
     "output_type": "stream",
     "text": [
      "rmdir: failed to remove 'recipes/pie/apple': Directory not empty\n"
     ]
    },
    {
     "ename": "",
     "evalue": "1",
     "output_type": "error",
     "traceback": []
    }
   ],
   "source": [
    "rmdir recipes/pie/apple"
   ]
  },
  {
   "cell_type": "markdown",
   "metadata": {
    "ein.tags": "worksheet-0",
    "slideshow": {
     "slide_type": "-"
    }
   },
   "source": [
    "-   Remove the file `dish1` in `apple`."
   ]
  },
  {
   "cell_type": "code",
   "execution_count": 47,
   "metadata": {},
   "outputs": [],
   "source": [
    "rm recipes/pie/apple/dish1.txt"
   ]
  },
  {
   "cell_type": "markdown",
   "metadata": {
    "ein.tags": "worksheet-0",
    "slideshow": {
     "slide_type": "-"
    }
   },
   "source": [
    "-   Now remove directory `apple`."
   ]
  },
  {
   "cell_type": "code",
   "execution_count": 48,
   "metadata": {},
   "outputs": [],
   "source": [
    "rmdir recipes/pie/apple"
   ]
  },
  {
   "cell_type": "markdown",
   "metadata": {
    "ein.tags": "worksheet-0",
    "slideshow": {
     "slide_type": "-"
    }
   },
   "source": [
    "## `cp`\n",
    "-   Create a file `dish1` in `crust`."
   ]
  },
  {
   "cell_type": "code",
   "execution_count": 60,
   "metadata": {},
   "outputs": [],
   "source": [
    "touch recipes/pie/crust/dish1.txt"
   ]
  },
  {
   "cell_type": "markdown",
   "metadata": {
    "ein.tags": "worksheet-0",
    "slideshow": {
     "slide_type": "-"
    }
   },
   "source": [
    "-   Copy `dish1` to `dish2`."
   ]
  },
  {
   "cell_type": "code",
   "execution_count": 62,
   "metadata": {},
   "outputs": [],
   "source": [
    "cp recipes/pie/crust/dish1.txt recipes/pie/crust/dish2.txt"
   ]
  },
  {
   "cell_type": "markdown",
   "metadata": {
    "ein.tags": "worksheet-0",
    "slideshow": {
     "slide_type": "-"
    }
   },
   "source": [
    "-   List the contents of `crust`."
   ]
  },
  {
   "cell_type": "code",
   "execution_count": 64,
   "metadata": {},
   "outputs": [
    {
     "name": "stdout",
     "output_type": "stream",
     "text": [
      "dish1.txt  dish2.txt\n"
     ]
    }
   ],
   "source": [
    "ls recipes/pie/crust"
   ]
  },
  {
   "cell_type": "markdown",
   "metadata": {
    "ein.tags": "worksheet-0",
    "slideshow": {
     "slide_type": "-"
    }
   },
   "source": [
    "-   Copy the contents in `crust` to `apple`."
   ]
  },
  {
   "cell_type": "code",
   "execution_count": 65,
   "metadata": {},
   "outputs": [],
   "source": [
    "cp -r recipes/pie/crust recipes/pie/apple"
   ]
  },
  {
   "cell_type": "markdown",
   "metadata": {
    "ein.tags": "worksheet-0",
    "slideshow": {
     "slide_type": "-"
    }
   },
   "source": [
    "## `mv`\n",
    "-   Rename `dish1` to `cookie1`, and `dish2` to `cookie2`.\n",
    "-   Move both `cookie1` and `cookie2` to the directory `cookie`\n",
    "-   Move `recipe` directory to `junk` directory."
   ]
  },
  {
   "cell_type": "code",
   "execution_count": 66,
   "metadata": {},
   "outputs": [],
   "source": [
    "mv recipes/pie/crust/dish1.txt recipes/pie/crust/cookie1.txt"
   ]
  },
  {
   "cell_type": "code",
   "execution_count": 67,
   "metadata": {},
   "outputs": [],
   "source": [
    "mv recipes/pie/crust/dish2.txt recipes/pie/crust/cookie2.txt"
   ]
  },
  {
   "cell_type": "code",
   "execution_count": 71,
   "metadata": {},
   "outputs": [],
   "source": [
    "mv recipes/pie/crust/* recipes/cookie/"
   ]
  },
  {
   "cell_type": "code",
   "execution_count": 73,
   "metadata": {},
   "outputs": [],
   "source": [
    "mv recipes junk"
   ]
  },
  {
   "cell_type": "markdown",
   "metadata": {
    "ein.tags": "worksheet-0",
    "slideshow": {
     "slide_type": "-"
    }
   },
   "source": [
    "## `rm`\n",
    "-   Remove `dish1` in `apple`.\n",
    "-   Remove `cookie1` and `cookie2` in `cookie`.\n",
    "-   Remove `recipe` direcory in `junk`."
   ]
  },
  {
   "cell_type": "code",
   "execution_count": 74,
   "metadata": {},
   "outputs": [],
   "source": [
    "rm junk/recipes/pie/apple/dish1.txt"
   ]
  },
  {
   "cell_type": "code",
   "execution_count": 75,
   "metadata": {},
   "outputs": [],
   "source": [
    "rm junk/recipes/cookie/*.txt"
   ]
  },
  {
   "cell_type": "code",
   "execution_count": 76,
   "metadata": {},
   "outputs": [],
   "source": [
    "rm -r junk/recipes"
   ]
  },
  {
   "cell_type": "markdown",
   "metadata": {
    "ein.tags": "worksheet-0",
    "slideshow": {
     "slide_type": "-"
    }
   },
   "source": [
    "## `ln`\n",
    "\n"
   ]
  },
  {
   "cell_type": "code",
   "execution_count": 77,
   "metadata": {},
   "outputs": [
    {
     "name": "stdout",
     "output_type": "stream",
     "text": [
      "LN(1)                            User Commands                           LN(1)\n",
      "\n",
      "NAME\n",
      "       ln - make links between files\n",
      "\n",
      "SYNOPSIS\n",
      "       ln [OPTION]... [-T] TARGET LINK_NAME   (1st form)\n",
      "       ln [OPTION]... TARGET                  (2nd form)\n",
      "       ln [OPTION]... TARGET... DIRECTORY     (3rd form)\n",
      "       ln [OPTION]... -t DIRECTORY TARGET...  (4th form)\n",
      "\n",
      "DESCRIPTION\n",
      "       In  the  1st form, create a link to TARGET with the name LINK_NAME.  In\n",
      "       the 2nd form, create a link to TARGET in the current directory.  In the\n",
      "       3rd  and  4th  forms, create links to each TARGET in DIRECTORY.  Create\n",
      "       hard links by default, symbolic links  with  --symbolic.   By  default,\n",
      "       each  destination  (name  of  new link) should not already exist.  When\n",
      "       creating hard links, each TARGET must exist.  Symbolic links  can  hold\n",
      "       arbitrary  text;  if  later resolved, a relative link is interpreted in\n",
      "       relation to its parent directory.\n",
      "\n",
      "       Mandatory arguments to long options are  mandatory  for  short  options\n",
      "       too.\n",
      "\n",
      "       --backup[=CONTROL]\n",
      "              make a backup of each existing destination file\n",
      "\n",
      "       -b     like --backup but does not accept an argument\n",
      "\n",
      "       -d, -F, --directory\n",
      "              allow  the  superuser to attempt to hard link directories (note:\n",
      "              will probably fail due to  system  restrictions,  even  for  the\n",
      "              superuser)\n",
      "\n",
      "       -f, --force\n",
      "              remove existing destination files\n",
      "\n",
      "       -i, --interactive\n",
      "              prompt whether to remove destinations\n",
      "\n",
      "       -L, --logical\n",
      "              dereference TARGETs that are symbolic links\n",
      "\n",
      "       -n, --no-dereference\n",
      "              treat  LINK_NAME  as a normal file if it is a symbolic link to a\n",
      "              directory\n",
      "\n",
      "       -P, --physical\n",
      "              make hard links directly to symbolic links\n",
      "\n",
      "       -r, --relative\n",
      "              create symbolic links relative to link location\n",
      "\n",
      "       -s, --symbolic\n",
      "              make symbolic links instead of hard links\n",
      "\n",
      "       -S, --suffix=SUFFIX\n",
      "              override the usual backup suffix\n",
      "\n",
      "       -t, --target-directory=DIRECTORY\n",
      "              specify the DIRECTORY in which to create the links\n",
      "\n",
      "       -T, --no-target-directory\n",
      "              treat LINK_NAME as a normal file always\n",
      "\n",
      "       -v, --verbose\n",
      "              print name of each linked file\n",
      "\n",
      "       --help display this help and exit\n",
      "\n",
      "       --version\n",
      "              output version information and exit\n",
      "\n",
      "       The  backup  suffix  is  '~',  unless  set  with   --suffix   or   SIM‐\n",
      "       PLE_BACKUP_SUFFIX.   The version control method may be selected via the\n",
      "       --backup option or through the  VERSION_CONTROL  environment  variable.\n",
      "       Here are the values:\n",
      "\n",
      "       none, off\n",
      "              never make backups (even if --backup is given)\n",
      "\n",
      "       numbered, t\n",
      "              make numbered backups\n",
      "\n",
      "       existing, nil\n",
      "              numbered if numbered backups exist, simple otherwise\n",
      "\n",
      "       simple, never\n",
      "              always make simple backups\n",
      "\n",
      "       Using  -s ignores -L and -P.  Otherwise, the last option specified con‐\n",
      "       trols behavior when a TARGET is a symbolic link, defaulting to -P.\n",
      "\n",
      "AUTHOR\n",
      "       Written by Mike Parker and David MacKenzie.\n",
      "\n",
      "REPORTING BUGS\n",
      "       GNU coreutils online help: <http://www.gnu.org/software/coreutils/>\n",
      "       Report ln translation bugs to <http://translationproject.org/team/>\n",
      "\n",
      "COPYRIGHT\n",
      "       Copyright © 2017 Free Software Foundation, Inc.   License  GPLv3+:  GNU\n",
      "       GPL version 3 or later <http://gnu.org/licenses/gpl.html>.\n",
      "       This  is  free  software:  you  are free to change and redistribute it.\n",
      "       There is NO WARRANTY, to the extent permitted by law.\n",
      "\n",
      "SEE ALSO\n",
      "       link(2), symlink(2)\n",
      "\n",
      "       Full documentation at: <http://www.gnu.org/software/coreutils/ln>\n",
      "       or available locally via: info '(coreutils) ln invocation'\n",
      "\n",
      "GNU coreutils 8.28               January 2018                            LN(1)\n"
     ]
    }
   ],
   "source": [
    "man ln"
   ]
  }
 ],
 "metadata": {
  "kernelspec": {
   "display_name": "Python 3",
   "language": "python",
   "name": "python3"
  },
  "language_info": {
   "codemirror_mode": {
    "name": "ipython",
    "version": 3
   },
   "file_extension": ".py",
   "mimetype": "text/x-python",
   "name": "python",
   "nbconvert_exporter": "python",
   "pygments_lexer": "ipython3",
   "version": "3.7.0"
  },
  "name": "assignment-01-introduction.ipynb"
 },
 "nbformat": 4,
 "nbformat_minor": 2
}
