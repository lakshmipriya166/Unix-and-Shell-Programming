{
 "cells": [
  {
   "cell_type": "markdown",
   "metadata": {
    "autoscroll": false,
    "ein.hycell": false,
    "ein.tags": "worksheet-0",
    "slideshow": {
     "slide_type": "-"
    }
   },
   "source": [
    "# Exercise 1\n",
    "1.  Launch a terminal.\n",
    "2.  Create three directories named `letters, reports` and `assignment`\n",
    "    under your home directory.\n",
    "3.  Move to directory `letters`.\n",
    "4.  Create two directories named `friendly` and `formal` under the\n",
    "    `letters` directory.\n",
    "5.  Move to directory `reports` using only one command (directly from\n",
    "    `letters`).\n",
    "6.  Create three directories called `personal`, `business`, and `school`\n",
    "    under the directory `reports` (use only one command).\n",
    "7.  Create a directory called `UNIX` under the `assignments` directory.\n",
    "    The directories in this step should be created without moving from\n",
    "    the `reports` directory.\n",
    "8.  Move to your home directory.\n",
    "9.  Recursively list all of the directories you created and draw the\n",
    "    directory structure on paper.\n",
    "10. Quit the terminal.\n",
    "\n"
   ]
  },
  {
   "cell_type": "code",
   "execution_count": 1,
   "metadata": {},
   "outputs": [],
   "source": [
    "mkdir letters reports assignment"
   ]
  },
  {
   "cell_type": "code",
   "execution_count": 2,
   "metadata": {},
   "outputs": [],
   "source": [
    "cd letters"
   ]
  },
  {
   "cell_type": "code",
   "execution_count": 3,
   "metadata": {},
   "outputs": [],
   "source": [
    "mkdir friendly formal"
   ]
  },
  {
   "cell_type": "code",
   "execution_count": 4,
   "metadata": {},
   "outputs": [],
   "source": [
    "cd ../reports"
   ]
  },
  {
   "cell_type": "code",
   "execution_count": 5,
   "metadata": {},
   "outputs": [],
   "source": [
    "mkdir personal business school"
   ]
  },
  {
   "cell_type": "code",
   "execution_count": 6,
   "metadata": {},
   "outputs": [],
   "source": [
    "mkdir -p ../assignment/unix"
   ]
  },
  {
   "cell_type": "code",
   "execution_count": 7,
   "metadata": {},
   "outputs": [],
   "source": [
    "cd"
   ]
  },
  {
   "cell_type": "code",
   "execution_count": 8,
   "metadata": {
    "scrolled": true
   },
   "outputs": [
    {
     "name": "stdout",
     "output_type": "stream",
     "text": [
      "reports:\n",
      "total 20\n",
      "drwxr-xr-x  2 lakshmi lakshmi 4096 Sep  1 19:32 \u001b[0m\u001b[01;34mschool\u001b[0m\n",
      "drwxr-xr-x  2 lakshmi lakshmi 4096 Sep  1 19:32 \u001b[01;34mpersonal\u001b[0m\n",
      "drwxr-xr-x  2 lakshmi lakshmi 4096 Sep  1 19:32 \u001b[01;34mbusiness\u001b[0m\n",
      "drwxr-xr-x 24 lakshmi lakshmi 4096 Sep  1 19:32 \u001b[01;34m..\u001b[0m\n",
      "drwxr-xr-x  5 lakshmi lakshmi 4096 Sep  1 19:32 \u001b[01;34m.\u001b[0m\n",
      "\n",
      "letters:\n",
      "total 16\n",
      "drwxr-xr-x  2 lakshmi lakshmi 4096 Sep  1 19:32 \u001b[01;34mfriendly\u001b[0m\n",
      "drwxr-xr-x  2 lakshmi lakshmi 4096 Sep  1 19:32 \u001b[01;34mformal\u001b[0m\n",
      "drwxr-xr-x 24 lakshmi lakshmi 4096 Sep  1 19:32 \u001b[01;34m..\u001b[0m\n",
      "drwxr-xr-x  4 lakshmi lakshmi 4096 Sep  1 19:32 \u001b[01;34m.\u001b[0m\n",
      "\n",
      "assignment:\n",
      "total 12\n",
      "drwxr-xr-x  2 lakshmi lakshmi 4096 Sep  1 19:32 \u001b[01;34munix\u001b[0m\n",
      "drwxr-xr-x 24 lakshmi lakshmi 4096 Sep  1 19:32 \u001b[01;34m..\u001b[0m\n",
      "drwxr-xr-x  3 lakshmi lakshmi 4096 Sep  1 19:32 \u001b[01;34m.\u001b[0m\n"
     ]
    }
   ],
   "source": [
    "ls -alr letters assignment reports"
   ]
  },
  {
   "cell_type": "markdown",
   "metadata": {
    "autoscroll": false,
    "ein.hycell": false,
    "ein.tags": "worksheet-0",
    "slideshow": {
     "slide_type": "-"
    }
   },
   "source": [
    "# Exercise 2\n",
    "\n",
    "1.  Launch a terminal.\n",
    "2.  Recursivcly list the directories under your home directory (the ones\n",
    "    created in Exercise 1).\n",
    "3.  Move to the `UNIX` directory.\n",
    "4.  Check your current directory.\n",
    "5.  Using `vi`, create a file named `hw4` that contains some text.\n",
    "6.  Save the file (it should be saved under the `UNIX` directory).\n",
    "7.  Move to your home directory\n",
    "8.  Print the content of `hw4` from your home directory.\n",
    "9.  Make a copy of `hw4` and call it `hw4.bk`. Store it under the same\n",
    "    directory where `hw4` is stored.\n",
    "10. From your home directory, check to see if both files (`hw4` and\n",
    "    `hw4.bk`) exist.\n",
    "11. Move to the `UNIX` directory.\n",
    "12. Check your current working directory.\n",
    "13. Make a hard link to the `hw4` file. The link should be under the\n",
    "    `UNIX` subdirectory and be called `hw4HL`.\n",
    "14. Make a soft link to `hw4` cablled `hw4SL` and store it under the\n",
    "    `UNIX` directory.\n",
    "15. Check the inode of `hw4, hw4.bk, hw4HL`, and `hw4SL`. Are all the\n",
    "    same? Are all different? Explain how you determined the answer.\n",
    "16. Use `ls` command to find the file types of `hw4, hw4.bk, hw4HL` and\n",
    "    `hw4SL`. Explain your observation.\n",
    "17. Quit the terminal.\n",
    "\n"
   ]
  },
  {
   "cell_type": "code",
   "execution_count": 1,
   "metadata": {},
   "outputs": [
    {
     "name": "stdout",
     "output_type": "stream",
     "text": [
      "/home/lakshmi\n"
     ]
    }
   ],
   "source": [
    "pwd"
   ]
  },
  {
   "cell_type": "code",
   "execution_count": 2,
   "metadata": {},
   "outputs": [],
   "source": [
    "cd assignment/unix"
   ]
  },
  {
   "cell_type": "code",
   "execution_count": 3,
   "metadata": {},
   "outputs": [
    {
     "name": "stdout",
     "output_type": "stream",
     "text": [
      "/home/lakshmi/assignment/unix\n"
     ]
    }
   ],
   "source": [
    "pwd"
   ]
  },
  {
   "cell_type": "code",
   "execution_count": null,
   "metadata": {},
   "outputs": [],
   "source": [
    "vi hw4"
   ]
  },
  {
   "cell_type": "code",
   "execution_count": 1,
   "metadata": {},
   "outputs": [],
   "source": [
    "cd"
   ]
  },
  {
   "cell_type": "code",
   "execution_count": 2,
   "metadata": {},
   "outputs": [
    {
     "name": "stdout",
     "output_type": "stream",
     "text": [
      "/home/lakshmi\n"
     ]
    }
   ],
   "source": [
    "pwd"
   ]
  },
  {
   "cell_type": "code",
   "execution_count": 3,
   "metadata": {},
   "outputs": [
    {
     "name": "stdout",
     "output_type": "stream",
     "text": [
      "Complete the homeworks on time.\n",
      "H\n",
      "O\n",
      "M\n",
      "E\n",
      "W\n",
      "O\n",
      "R\n",
      "K\n",
      "!\n"
     ]
    }
   ],
   "source": [
    "cat assignment/unix/hw4"
   ]
  },
  {
   "cell_type": "code",
   "execution_count": 4,
   "metadata": {},
   "outputs": [],
   "source": [
    "cp assignment/unix/hw4 assignment/unix/hw4.bk"
   ]
  },
  {
   "cell_type": "code",
   "execution_count": 5,
   "metadata": {},
   "outputs": [
    {
     "name": "stdout",
     "output_type": "stream",
     "text": [
      "Complete the homeworks on time.\n",
      "H\n",
      "O\n",
      "M\n",
      "E\n",
      "W\n",
      "O\n",
      "R\n",
      "K\n",
      "!\n"
     ]
    }
   ],
   "source": [
    "cat assignment/unix/hw4.bk"
   ]
  },
  {
   "cell_type": "code",
   "execution_count": 8,
   "metadata": {},
   "outputs": [
    {
     "name": "stdout",
     "output_type": "stream",
     "text": [
      "assignment/unix/hw4  assignment/unix/hw4.bk\n"
     ]
    }
   ],
   "source": [
    "ls assignment/unix/hw*"
   ]
  },
  {
   "cell_type": "code",
   "execution_count": 9,
   "metadata": {},
   "outputs": [],
   "source": [
    "cd assignment/unix"
   ]
  },
  {
   "cell_type": "code",
   "execution_count": 10,
   "metadata": {},
   "outputs": [
    {
     "name": "stdout",
     "output_type": "stream",
     "text": [
      "/home/lakshmi/assignment/unix\n"
     ]
    }
   ],
   "source": [
    "pwd"
   ]
  },
  {
   "cell_type": "code",
   "execution_count": 11,
   "metadata": {},
   "outputs": [],
   "source": [
    "ln hw4 hw4HL"
   ]
  },
  {
   "cell_type": "code",
   "execution_count": 12,
   "metadata": {},
   "outputs": [],
   "source": [
    "ln -s hw4 hw4SL"
   ]
  },
  {
   "cell_type": "code",
   "execution_count": 13,
   "metadata": {},
   "outputs": [
    {
     "name": "stdout",
     "output_type": "stream",
     "text": [
      "total 12\n",
      "6422568 -rw-r--r-- 2 lakshmi lakshmi 50 Sep  3 13:49 hw4\n",
      "6431700 -rw-r--r-- 1 lakshmi lakshmi 50 Sep  3 13:52 hw4.bk\n",
      "6422568 -rw-r--r-- 2 lakshmi lakshmi 50 Sep  3 13:49 hw4HL\n",
      "6431707 lrwxrwxrwx 1 lakshmi lakshmi  3 Sep  3 13:55 \u001b[0m\u001b[01;36mhw4SL\u001b[0m -> hw4\n"
     ]
    }
   ],
   "source": [
    "ls -il"
   ]
  },
  {
   "cell_type": "code",
   "execution_count": 14,
   "metadata": {},
   "outputs": [
    {
     "name": "stdout",
     "output_type": "stream",
     "text": [
      "total 12\n",
      "-rw-r--r-- 2 lakshmi lakshmi 50 Sep  3 13:49 hw4\n",
      "-rw-r--r-- 1 lakshmi lakshmi 50 Sep  3 13:52 hw4.bk\n",
      "-rw-r--r-- 2 lakshmi lakshmi 50 Sep  3 13:49 hw4HL\n",
      "lrwxrwxrwx 1 lakshmi lakshmi  3 Sep  3 13:55 \u001b[0m\u001b[01;36mhw4SL\u001b[0m -> hw4\n"
     ]
    }
   ],
   "source": [
    "ls -l"
   ]
  },
  {
   "cell_type": "markdown",
   "metadata": {
    "autoscroll": false,
    "ein.hycell": false,
    "ein.tags": "worksheet-0",
    "slideshow": {
     "slide_type": "-"
    }
   },
   "source": [
    "# Exercise 3\n",
    "1.  Launch a terminal.\n",
    "2.  Create a backup directory in your home directory called `backups`.\n",
    "3.  Use the `find` command to find the pathnames of all of the files\n",
    "    (`hw4, hw4.bk, hw4HL, hw4SL`) that you created in Exercise 2 (read\n",
    "    from the Internet about how to use `find`). All of them should be\n",
    "    found using only one find command. The command must also copy all of\n",
    "    them to the `backups` directory.\n",
    "\n",
    "        find ~ -name hw4* -exec cp {} backups\\;\n",
    "\n",
    "4.  Check the number of links and inode number of (`hw4, hw4.bk, hw4HL,\n",
    "     hw4SL`). Make note of the results.\n",
    "5.  Delete the original `hw4` file without moving from your\n",
    "    home directory.\n",
    "6.  Check the existence of `hw4, hw4.bk, hw4HL, hw4SL`.\n",
    "7.  Check the contents of `hw4, hw4.bk, hw4HL, hw4SL`.\n",
    "8.  Restore `hw4` by making a copy of `hw4.bk`.\n",
    "9.  You may have noticed that your soft link (`hw4SL`) contains garbage.\n",
    "    Delete this file.\n",
    "10. Make a soft link to `hw4` and save it as `hw4SL` under the same\n",
    "    directory as it was.\n",
    "11. List recursively all of your files and directories to confirm\n",
    "    all operations.\n",
    "12. Draw the directory structure of your home directory.\n",
    "13. Quit the terminal.\n",
    "\n"
   ]
  },
  {
   "cell_type": "code",
   "execution_count": 15,
   "metadata": {},
   "outputs": [
    {
     "name": "stdout",
     "output_type": "stream",
     "text": [
      "/home/lakshmi/assignment/unix\n"
     ]
    }
   ],
   "source": [
    "pwd"
   ]
  },
  {
   "cell_type": "code",
   "execution_count": 16,
   "metadata": {},
   "outputs": [],
   "source": [
    "cd"
   ]
  },
  {
   "cell_type": "code",
   "execution_count": 17,
   "metadata": {},
   "outputs": [],
   "source": [
    "mkdir backups"
   ]
  },
  {
   "cell_type": "code",
   "execution_count": 19,
   "metadata": {},
   "outputs": [
    {
     "name": "stdout",
     "output_type": "stream",
     "text": [
      "cp: '/home/lakshmi/backups/hw4.bk' and '/home/lakshmi/backups/hw4.bk' are the same file\n",
      "cp: '/home/lakshmi/backups/hw4' and '/home/lakshmi/backups/hw4' are the same file\n",
      "cp: '/home/lakshmi/backups/hw4SL' and '/home/lakshmi/backups/hw4SL' are the same file\n",
      "cp: '/home/lakshmi/backups/hw4HL' and '/home/lakshmi/backups/hw4HL' are the same file\n"
     ]
    }
   ],
   "source": [
    "find ~ -name hw4* -exec cp {} ~/backups \\;"
   ]
  },
  {
   "cell_type": "code",
   "execution_count": 20,
   "metadata": {},
   "outputs": [
    {
     "name": "stdout",
     "output_type": "stream",
     "text": [
      "total 16\n",
      "6432921 -rw-r--r-- 1 lakshmi lakshmi 50 Sep  3 14:02 hw4\n",
      "6431715 -rw-r--r-- 1 lakshmi lakshmi 50 Sep  3 14:02 hw4.bk\n",
      "6432986 -rw-r--r-- 1 lakshmi lakshmi 50 Sep  3 14:02 hw4HL\n",
      "6432936 -rw-r--r-- 1 lakshmi lakshmi 50 Sep  3 14:02 hw4SL\n"
     ]
    }
   ],
   "source": [
    "ls -il backups"
   ]
  },
  {
   "cell_type": "code",
   "execution_count": 21,
   "metadata": {},
   "outputs": [],
   "source": [
    "rm assignment/unix/hw4"
   ]
  },
  {
   "cell_type": "code",
   "execution_count": 22,
   "metadata": {},
   "outputs": [
    {
     "name": "stdout",
     "output_type": "stream",
     "text": [
      "total 8\n",
      "-rw-r--r-- 1 lakshmi lakshmi 50 Sep  3 13:52 hw4.bk\n",
      "-rw-r--r-- 1 lakshmi lakshmi 50 Sep  3 13:49 hw4HL\n",
      "lrwxrwxrwx 1 lakshmi lakshmi  3 Sep  3 13:55 \u001b[0m\u001b[40;31;01mhw4SL\u001b[0m -> \u001b[40;31;01mhw4\u001b[0m\n"
     ]
    }
   ],
   "source": [
    "ls -l assignment/unix"
   ]
  },
  {
   "cell_type": "code",
   "execution_count": 29,
   "metadata": {},
   "outputs": [
    {
     "name": "stdout",
     "output_type": "stream",
     "text": [
      "cat: assignment/unix/hw4: No such file or directory\n"
     ]
    },
    {
     "ename": "",
     "evalue": "1",
     "output_type": "error",
     "traceback": []
    }
   ],
   "source": [
    "cat assignment/unix/hw4"
   ]
  },
  {
   "cell_type": "code",
   "execution_count": 30,
   "metadata": {},
   "outputs": [
    {
     "name": "stdout",
     "output_type": "stream",
     "text": [
      "Complete the homeworks on time.\n",
      "H\n",
      "O\n",
      "M\n",
      "E\n",
      "W\n",
      "O\n",
      "R\n",
      "K\n",
      "!\n"
     ]
    }
   ],
   "source": [
    "cat assignment/unix/hw4.bk"
   ]
  },
  {
   "cell_type": "code",
   "execution_count": 31,
   "metadata": {},
   "outputs": [
    {
     "name": "stdout",
     "output_type": "stream",
     "text": [
      "Complete the homeworks on time.\n",
      "H\n",
      "O\n",
      "M\n",
      "E\n",
      "W\n",
      "O\n",
      "R\n",
      "K\n",
      "!\n"
     ]
    }
   ],
   "source": [
    "cat assignment/unix/hw4HL"
   ]
  },
  {
   "cell_type": "code",
   "execution_count": 32,
   "metadata": {},
   "outputs": [
    {
     "name": "stdout",
     "output_type": "stream",
     "text": [
      "cat: assignment/unix/hw4SL: No such file or directory\n"
     ]
    },
    {
     "ename": "",
     "evalue": "1",
     "output_type": "error",
     "traceback": []
    }
   ],
   "source": [
    "cat assignment/unix/hw4SL"
   ]
  },
  {
   "cell_type": "code",
   "execution_count": 34,
   "metadata": {},
   "outputs": [],
   "source": [
    "cp assignment/unix/hw4.bk assignment/unix/hw4"
   ]
  },
  {
   "cell_type": "code",
   "execution_count": 35,
   "metadata": {},
   "outputs": [
    {
     "name": "stdout",
     "output_type": "stream",
     "text": [
      "Complete the homeworks on time.\n",
      "H\n",
      "O\n",
      "M\n",
      "E\n",
      "W\n",
      "O\n",
      "R\n",
      "K\n",
      "!\n"
     ]
    }
   ],
   "source": [
    "cat assignment/unix/hw4SL"
   ]
  },
  {
   "cell_type": "code",
   "execution_count": 36,
   "metadata": {},
   "outputs": [
    {
     "name": "stdout",
     "output_type": "stream",
     "text": [
      "assignment:\n",
      "total 4\n",
      "drwxr-xr-x 2 lakshmi lakshmi 4096 Sep  3 14:14 \u001b[0m\u001b[01;34munix\u001b[0m\n",
      "\n",
      "assignment/unix:\n",
      "total 12\n",
      "-rw-r--r-- 1 lakshmi lakshmi 50 Sep  3 14:14 hw4\n",
      "-rw-r--r-- 1 lakshmi lakshmi 50 Sep  3 13:52 hw4.bk\n",
      "-rw-r--r-- 1 lakshmi lakshmi 50 Sep  3 13:49 hw4HL\n",
      "lrwxrwxrwx 1 lakshmi lakshmi  3 Sep  3 13:55 \u001b[01;36mhw4SL\u001b[0m -> hw4\n"
     ]
    }
   ],
   "source": [
    "ls -lR assignment"
   ]
  },
  {
   "cell_type": "markdown",
   "metadata": {
    "autoscroll": false,
    "ein.hycell": false,
    "ein.tags": "worksheet-0",
    "slideshow": {
     "slide_type": "-"
    }
   },
   "source": [
    "# Exercise 4\n",
    "\n",
    "1.  Launch a terminal.\n",
    "2.  Use wildcards to display all of the files you have created under the\n",
    "    `HWs` without moving from your home directory.\n",
    "3.  Rename `hw4.bk` to `hw4.bak`\n",
    "4.  Create a short friendly letter, called `friend.1` using `vi` and\n",
    "    store it under the `friendly` directory.\n",
    "5.  Create a short formal letter, called `formal.1` using `vi` and store\n",
    "    it under the formal directory. Give a subject to `formal.1` letter.\n",
    "6.  Copy the file `formal.1` and call the new copy `formal.2`\n",
    "7.  Change only the subject of `formal.2` using `vi` and save it.\n",
    "8.  Using wildcards, print the contents of `formal.1` and `formal.2`\n",
    "9.  Make a directory called `business` under your home directory.\n",
    "10. Move the formal directory (with all of its contents) under the\n",
    "    `business` directory.\n",
    "11. Make a recursive list of your directory structure.\n",
    "12. Draw the new directory structure on paper.\n",
    "13. Quit the terminal.\n",
    "\n"
   ]
  },
  {
   "cell_type": "code",
   "execution_count": 38,
   "metadata": {},
   "outputs": [
    {
     "name": "stdout",
     "output_type": "stream",
     "text": [
      "-rw-r--r-- 1 lakshmi lakshmi 50 Sep  3 14:14 assignment/unix/hw4\n",
      "-rw-r--r-- 1 lakshmi lakshmi 50 Sep  3 13:52 assignment/unix/hw4.bk\n",
      "-rw-r--r-- 1 lakshmi lakshmi 50 Sep  3 13:49 assignment/unix/hw4HL\n",
      "lrwxrwxrwx 1 lakshmi lakshmi  3 Sep  3 13:55 \u001b[0m\u001b[01;36massignment/unix/hw4SL\u001b[0m -> hw4\n"
     ]
    }
   ],
   "source": [
    "ls -l assignment/unix/hw*"
   ]
  },
  {
   "cell_type": "code",
   "execution_count": 39,
   "metadata": {},
   "outputs": [],
   "source": [
    "mv assignment/unix/hw4.bk assignment/unix/hw4.bak"
   ]
  },
  {
   "cell_type": "code",
   "execution_count": 40,
   "metadata": {},
   "outputs": [
    {
     "name": "stdout",
     "output_type": "stream",
     "text": [
      "-rw-r--r-- 1 lakshmi lakshmi 50 Sep  3 14:14 assignment/unix/hw4\n",
      "-rw-r--r-- 1 lakshmi lakshmi 50 Sep  3 13:52 assignment/unix/hw4.bak\n",
      "-rw-r--r-- 1 lakshmi lakshmi 50 Sep  3 13:49 assignment/unix/hw4HL\n",
      "lrwxrwxrwx 1 lakshmi lakshmi  3 Sep  3 13:55 \u001b[0m\u001b[01;36massignment/unix/hw4SL\u001b[0m -> hw4\n"
     ]
    }
   ],
   "source": [
    "ls -l assignment/unix/hw4*"
   ]
  },
  {
   "cell_type": "code",
   "execution_count": null,
   "metadata": {},
   "outputs": [],
   "source": [
    "vi letters/friendly/friend.1"
   ]
  },
  {
   "cell_type": "code",
   "execution_count": 41,
   "metadata": {},
   "outputs": [
    {
     "name": "stdout",
     "output_type": "stream",
     "text": [
      "This is an informal letter.\n",
      "\n",
      "\n",
      "\n",
      "\n",
      "\n",
      "Yours affectionately,\n",
      "Lakshmi Priya. B\n"
     ]
    }
   ],
   "source": [
    "cat letters/friendly/friend.1"
   ]
  },
  {
   "cell_type": "code",
   "execution_count": null,
   "metadata": {},
   "outputs": [],
   "source": [
    "vi letters/formal/formal.1"
   ]
  },
  {
   "cell_type": "code",
   "execution_count": 42,
   "metadata": {},
   "outputs": [
    {
     "name": "stdout",
     "output_type": "stream",
     "text": [
      "This is a formal letter.\n",
      "\n",
      "Subject: Formal letter\n",
      "\n",
      "\n",
      "Yours truly,\n",
      "Lakshmi Priya. B\n"
     ]
    }
   ],
   "source": [
    "cat letters/formal/formal.1"
   ]
  },
  {
   "cell_type": "code",
   "execution_count": 1,
   "metadata": {},
   "outputs": [],
   "source": [
    "cp letters/formal/formal.1 letters/formal/formal.2"
   ]
  },
  {
   "cell_type": "code",
   "execution_count": 2,
   "metadata": {},
   "outputs": [
    {
     "name": "stdout",
     "output_type": "stream",
     "text": [
      "This is a formal letter.\n",
      "\n",
      "Subject: Formal letter\n",
      "\n",
      "\n",
      "Yours truly,\n",
      "Lakshmi Priya. B\n"
     ]
    }
   ],
   "source": [
    "cat letters/formal/formal.2"
   ]
  },
  {
   "cell_type": "code",
   "execution_count": null,
   "metadata": {},
   "outputs": [],
   "source": [
    "vi letters/formal/formal.2"
   ]
  },
  {
   "cell_type": "code",
   "execution_count": 3,
   "metadata": {},
   "outputs": [
    {
     "name": "stdout",
     "output_type": "stream",
     "text": [
      "This is a formal letter.\n",
      "\n",
      "Subject: NEW FORMAL LETTER \n",
      "\n",
      "\n",
      "Yours truly,\n",
      "Lakshmi Priya. B\n"
     ]
    }
   ],
   "source": [
    "cat letters/formal/formal.2"
   ]
  },
  {
   "cell_type": "code",
   "execution_count": 4,
   "metadata": {},
   "outputs": [
    {
     "name": "stdout",
     "output_type": "stream",
     "text": [
      "This is a formal letter.\n",
      "\n",
      "Subject: Formal letter\n",
      "\n",
      "\n",
      "Yours truly,\n",
      "Lakshmi Priya. B\n",
      "This is a formal letter.\n",
      "\n",
      "Subject: NEW FORMAL LETTER \n",
      "\n",
      "\n",
      "Yours truly,\n",
      "Lakshmi Priya. B\n"
     ]
    }
   ],
   "source": [
    "cat letters/formal/*"
   ]
  },
  {
   "cell_type": "code",
   "execution_count": 5,
   "metadata": {},
   "outputs": [],
   "source": [
    "mkdir business"
   ]
  },
  {
   "cell_type": "code",
   "execution_count": 6,
   "metadata": {},
   "outputs": [],
   "source": [
    "mv letters/formal business"
   ]
  },
  {
   "cell_type": "code",
   "execution_count": 8,
   "metadata": {},
   "outputs": [
    {
     "name": "stdout",
     "output_type": "stream",
     "text": [
      "business:\n",
      "total 4\n",
      "drwxr-xr-x 2 lakshmi lakshmi 4096 Sep  3 18:16 \u001b[0m\u001b[01;34mformal\u001b[0m\n",
      "\n",
      "business/formal:\n",
      "total 8\n",
      "-rw-r--r-- 1 lakshmi lakshmi 81 Sep  3 14:43 formal.1\n",
      "-rw-r--r-- 1 lakshmi lakshmi 86 Sep  3 18:16 formal.2\n"
     ]
    }
   ],
   "source": [
    "ls -lR business"
   ]
  }
 ],
 "metadata": {
  "kernelspec": {
   "display_name": "Bash",
   "language": "bash",
   "name": "bash"
  },
  "language_info": {
   "codemirror_mode": "shell",
   "file_extension": ".sh",
   "mimetype": "text/x-sh",
   "name": "bash"
  },
  "name": "Untitled.ipynb"
 },
 "nbformat": 4,
 "nbformat_minor": 2
}
