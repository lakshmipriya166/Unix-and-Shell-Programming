{
 "cells": [
  {
   "cell_type": "markdown",
   "metadata": {
    "autoscroll": false,
    "ein.hycell": false,
    "ein.tags": "worksheet-0",
    "slideshow": {
     "slide_type": "-"
    }
   },
   "source": [
    "# Exercise 1\n",
    "1.  Launch a terminal.\n",
    "2.  Check which group or groups you belong to.\n",
    "3.  Use the `umask` command to set the default permission to `700`. What\n",
    "    is the default permission for files after this command?\n",
    "4.  Create a directory named `chapter4` under your home directory.\n",
    "5.  Check the default permission of this directory. Is it `700`?\n",
    "6.  Create a directory under the `chapter4` directory (without moving\n",
    "    from your home directory) and name it `session1`.\n",
    "7.  Check the permission of this directory. Is it `700`?\n",
    "8.  Move to the `session1` directory.\n",
    "9.  Create a file named `hw41` under this directory. Save this file.\n",
    "10. Check the permission of this file. Is it `700` or `600`? Why?\n",
    "    Explain the difference between the permissions for files\n",
    "    and directories.\n",
    "11. Do users in your group have any access to this file? Do other users\n",
    "    (outside of your group) have any access to this file?\n",
    "12. Change the permissions to allow users in your group only to copy\n",
    "    this file to their own directories. Is there a need to change the\n",
    "    permission of any directories? If yes, make necessary changes.\n",
    "13. Let a user in your group copy this file into her home directory. Was\n",
    "    the copy successful? If not, find the reason and take the\n",
    "    appropriate action(s) to correct it. Then try again with the other\n",
    "    user in your group.\n",
    "14. Quit the terminal.\n",
    "\n"
   ]
  },
  {
   "cell_type": "code",
   "execution_count": 2,
   "metadata": {},
   "outputs": [
    {
     "name": "stdout",
     "output_type": "stream",
     "text": [
      "lakshmi adm cdrom sudo dip plugdev lpadmin sambashare\n"
     ]
    }
   ],
   "source": [
    "groups"
   ]
  },
  {
   "cell_type": "code",
   "execution_count": 3,
   "metadata": {},
   "outputs": [],
   "source": [
    "umask 077"
   ]
  },
  {
   "cell_type": "code",
   "execution_count": 9,
   "metadata": {},
   "outputs": [],
   "source": [
    "mkdir chapter4"
   ]
  },
  {
   "cell_type": "code",
   "execution_count": 18,
   "metadata": {},
   "outputs": [
    {
     "name": "stdout",
     "output_type": "stream",
     "text": [
      "total 8\n",
      "drwx------  2 lakshmi lakshmi 4096 Sep  3 18:54 \u001b[0m\u001b[01;34m.\u001b[0m\n",
      "drwxr-xr-x 29 lakshmi lakshmi 4096 Sep  3 18:55 \u001b[01;34m..\u001b[0m\n"
     ]
    }
   ],
   "source": [
    "ls -al chapter4"
   ]
  },
  {
   "cell_type": "code",
   "execution_count": 13,
   "metadata": {},
   "outputs": [
    {
     "name": "stdout",
     "output_type": "stream",
     "text": [
      "/home/lakshmi\n"
     ]
    }
   ],
   "source": [
    "pwd"
   ]
  },
  {
   "cell_type": "code",
   "execution_count": 19,
   "metadata": {},
   "outputs": [],
   "source": [
    "mkdir chapter4/session1"
   ]
  },
  {
   "cell_type": "code",
   "execution_count": 21,
   "metadata": {},
   "outputs": [
    {
     "name": "stdout",
     "output_type": "stream",
     "text": [
      "\u001b[01;34mchapter4\u001b[00m\n",
      "└── \u001b[01;34msession1\u001b[00m\n",
      "\n",
      "1 directory, 0 files\n"
     ]
    }
   ],
   "source": [
    "tree chapter4"
   ]
  },
  {
   "cell_type": "code",
   "execution_count": 22,
   "metadata": {},
   "outputs": [
    {
     "name": "stdout",
     "output_type": "stream",
     "text": [
      "total 12\n",
      "drwx------  3 lakshmi lakshmi 4096 Sep  3 18:57 \u001b[0m\u001b[01;34m.\u001b[0m\n",
      "drwxr-xr-x 29 lakshmi lakshmi 4096 Sep  3 18:57 \u001b[01;34m..\u001b[0m\n",
      "drwx------  2 lakshmi lakshmi 4096 Sep  3 18:57 \u001b[01;34msession1\u001b[0m\n"
     ]
    }
   ],
   "source": [
    "ls -al chapter4"
   ]
  },
  {
   "cell_type": "code",
   "execution_count": 23,
   "metadata": {},
   "outputs": [],
   "source": [
    "cd chapter4/session1"
   ]
  },
  {
   "cell_type": "code",
   "execution_count": 24,
   "metadata": {},
   "outputs": [
    {
     "name": "stdout",
     "output_type": "stream",
     "text": [
      "/home/lakshmi/chapter4/session1\n"
     ]
    }
   ],
   "source": [
    "pwd"
   ]
  },
  {
   "cell_type": "code",
   "execution_count": 25,
   "metadata": {},
   "outputs": [],
   "source": [
    "touch hw41"
   ]
  },
  {
   "cell_type": "code",
   "execution_count": 28,
   "metadata": {},
   "outputs": [
    {
     "name": "stdout",
     "output_type": "stream",
     "text": [
      "..:\n",
      "total 4\n",
      "drwx------ 2 lakshmi lakshmi 4096 Sep  3 18:59 \u001b[0m\u001b[01;34msession1\u001b[0m\n",
      "\n",
      "../session1:\n",
      "total 0\n",
      "-rw------- 1 lakshmi lakshmi 0 Sep  3 18:59 hw41\n"
     ]
    }
   ],
   "source": [
    "ls -lR .."
   ]
  },
  {
   "cell_type": "raw",
   "metadata": {},
   "source": [
    "The permission for file is 600 because the default permission for files is 666 and after applying umask 077, the new default file permission becomes 600."
   ]
  },
  {
   "cell_type": "raw",
   "metadata": {},
   "source": [
    "Users in my group or other users outside my group do not have any access to this file"
   ]
  },
  {
   "cell_type": "code",
   "execution_count": 30,
   "metadata": {},
   "outputs": [],
   "source": [
    "chmod 640 hw41"
   ]
  },
  {
   "cell_type": "code",
   "execution_count": 31,
   "metadata": {},
   "outputs": [
    {
     "name": "stdout",
     "output_type": "stream",
     "text": [
      "..:\n",
      "total 4\n",
      "drwx------ 2 lakshmi lakshmi 4096 Sep  3 18:59 \u001b[0m\u001b[01;34msession1\u001b[0m\n",
      "\n",
      "../session1:\n",
      "total 0\n",
      "-rw-r----- 1 lakshmi lakshmi 0 Sep  3 18:59 hw41\n"
     ]
    }
   ],
   "source": [
    "ls -lR .."
   ]
  },
  {
   "cell_type": "code",
   "execution_count": 1,
   "metadata": {},
   "outputs": [
    {
     "name": "stdout",
     "output_type": "stream",
     "text": [
      "[sudo] password for lakshmi: \r\n"
     ]
    }
   ],
   "source": [
    "sudo adduser u1"
   ]
  },
  {
   "cell_type": "code",
   "execution_count": 2,
   "metadata": {},
   "outputs": [
    {
     "name": "stdout",
     "output_type": "stream",
     "text": [
      "[sudo] password for lakshmi: \r\n"
     ]
    }
   ],
   "source": [
    "sudo adduser u1 lakshmi"
   ]
  },
  {
   "cell_type": "code",
   "execution_count": null,
   "metadata": {},
   "outputs": [],
   "source": [
    "sudo chmod g+rwx hw41.backup"
   ]
  },
  {
   "cell_type": "raw",
   "metadata": {},
   "source": [
    "Also give read directory permission for group"
   ]
  },
  {
   "cell_type": "raw",
   "metadata": {},
   "source": [
    "login as u1"
   ]
  },
  {
   "cell_type": "code",
   "execution_count": 1,
   "metadata": {},
   "outputs": [],
   "source": [
    "cp /home/lakshmi/chapter4/session1/hw41 hw41.backup"
   ]
  },
  {
   "cell_type": "markdown",
   "metadata": {
    "autoscroll": false,
    "ein.hycell": false,
    "ein.tags": "worksheet-0",
    "slideshow": {
     "slide_type": "-"
    }
   },
   "source": [
    "# Exercise 2\n",
    "\n",
    "1.  Launch a terminal.\n",
    "2.  Check which group or groups you belong to.\n",
    "3.  Check your default mask.\n",
    "4.  Create a d1rectory called `garbage` under your home directory.\n",
    "5.  Check the permission of this directory. Make a note of it.\n",
    "6.  Change your default mask so that the default permission is `664`.\n",
    "    What is the default permission for directories after you make this\n",
    "    change?\n",
    "7.  Check the permission for the `garbage` directory. Has it been\n",
    "    changed after setting the default mask? Why or why not?\n",
    "8.  Delete this directory.\n",
    "9.  Create a directory called `session2` under the `chapter4` directory.\n",
    "10. Check the permission of this directory and make a note of it.\n",
    "11. Remove the `x` permission for the user from this directory.\n",
    "12. Move to the `session2` directory. You should have a problem. Do you\n",
    "    know what the problem is? Fix the problem.\n",
    "13. Create a file named `hw42` under this directory. Save this file.\n",
    "14. Check the permissions of this file. Can users in your group copy\n",
    "    this file? Can they change this file? Can users outside your group\n",
    "    copy this file? Can they change this file? Is this file executable?\n",
    "15. Change the permissions of this file so that every user can read,\n",
    "    modify, but not execute this file.\n",
    "16. Quit the terminal.\n",
    "\n"
   ]
  },
  {
   "cell_type": "code",
   "execution_count": 42,
   "metadata": {},
   "outputs": [],
   "source": [
    "cd"
   ]
  },
  {
   "cell_type": "code",
   "execution_count": 43,
   "metadata": {},
   "outputs": [
    {
     "name": "stdout",
     "output_type": "stream",
     "text": [
      "/home/lakshmi\n"
     ]
    }
   ],
   "source": [
    "pwd"
   ]
  },
  {
   "cell_type": "code",
   "execution_count": 44,
   "metadata": {},
   "outputs": [
    {
     "name": "stdout",
     "output_type": "stream",
     "text": [
      "lakshmi adm cdrom sudo dip plugdev lpadmin sambashare\n"
     ]
    }
   ],
   "source": [
    "groups"
   ]
  },
  {
   "cell_type": "code",
   "execution_count": 45,
   "metadata": {},
   "outputs": [
    {
     "name": "stdout",
     "output_type": "stream",
     "text": [
      "0077\n"
     ]
    }
   ],
   "source": [
    "umask"
   ]
  },
  {
   "cell_type": "code",
   "execution_count": 47,
   "metadata": {},
   "outputs": [],
   "source": [
    "mkdir garbage"
   ]
  },
  {
   "cell_type": "code",
   "execution_count": 48,
   "metadata": {},
   "outputs": [
    {
     "name": "stdout",
     "output_type": "stream",
     "text": [
      "total 8\n",
      "drwx------  2 lakshmi lakshmi 4096 Sep  3 19:16 \u001b[0m\u001b[01;34m.\u001b[0m\n",
      "drwxr-xr-x 30 lakshmi lakshmi 4096 Sep  3 19:16 \u001b[01;34m..\u001b[0m\n"
     ]
    }
   ],
   "source": [
    "ls -al garbage"
   ]
  },
  {
   "cell_type": "code",
   "execution_count": 49,
   "metadata": {},
   "outputs": [],
   "source": [
    "umask 113"
   ]
  },
  {
   "cell_type": "raw",
   "metadata": {},
   "source": [
    "The default permission becomes 664."
   ]
  },
  {
   "cell_type": "code",
   "execution_count": 53,
   "metadata": {},
   "outputs": [
    {
     "name": "stdout",
     "output_type": "stream",
     "text": [
      "total 8\n",
      "drwx------  2 lakshmi lakshmi 4096 Sep  3 19:16 \u001b[0m\u001b[01;34m.\u001b[0m\n",
      "drwxr-xr-x 30 lakshmi lakshmi 4096 Sep  3 19:17 \u001b[01;34m..\u001b[0m\n"
     ]
    }
   ],
   "source": [
    "ls -al garbage"
   ]
  },
  {
   "cell_type": "raw",
   "metadata": {},
   "source": [
    "The permissions for garbage directory has not been changed because the default permissions at the instant of creation of directory was used to devise the permissions of the directory."
   ]
  },
  {
   "cell_type": "code",
   "execution_count": 54,
   "metadata": {},
   "outputs": [],
   "source": [
    "rmdir garbage"
   ]
  },
  {
   "cell_type": "code",
   "execution_count": 55,
   "metadata": {},
   "outputs": [],
   "source": [
    "mkdir chapter4/session2"
   ]
  },
  {
   "cell_type": "code",
   "execution_count": 59,
   "metadata": {},
   "outputs": [
    {
     "name": "stdout",
     "output_type": "stream",
     "text": [
      "chapter4:\n",
      "total 8\n",
      "drwx------ 2 lakshmi lakshmi 4096 Sep  3 19:15 \u001b[0m\u001b[01;34msession1\u001b[0m\n",
      "drw-rw-r-- 2 lakshmi lakshmi 4096 Sep  3 19:21 \u001b[01;34msession2\u001b[0m\n",
      "\n",
      "chapter4/session1:\n",
      "total 0\n",
      "-rw-r----- 1 lakshmi lakshmi 0 Sep  3 18:59 hw41\n",
      "\n",
      "chapter4/session2:\n",
      "total 0\n"
     ]
    }
   ],
   "source": [
    "ls -lR chapter4"
   ]
  },
  {
   "cell_type": "code",
   "execution_count": 90,
   "metadata": {},
   "outputs": [],
   "source": [
    "cd"
   ]
  },
  {
   "cell_type": "code",
   "execution_count": 91,
   "metadata": {},
   "outputs": [],
   "source": [
    "chmod u-x chapter4"
   ]
  },
  {
   "cell_type": "code",
   "execution_count": 92,
   "metadata": {},
   "outputs": [
    {
     "name": "stdout",
     "output_type": "stream",
     "text": [
      "bash: cd: chapter4/session2: Permission denied\n"
     ]
    },
    {
     "ename": "",
     "evalue": "1",
     "output_type": "error",
     "traceback": []
    }
   ],
   "source": [
    "cd chapter4/session2"
   ]
  },
  {
   "cell_type": "code",
   "execution_count": 94,
   "metadata": {},
   "outputs": [],
   "source": [
    "chmod u+x chapter4"
   ]
  },
  {
   "cell_type": "code",
   "execution_count": 95,
   "metadata": {},
   "outputs": [],
   "source": [
    "cd chapter4/session2"
   ]
  },
  {
   "cell_type": "code",
   "execution_count": 97,
   "metadata": {},
   "outputs": [],
   "source": [
    "cd"
   ]
  },
  {
   "cell_type": "code",
   "execution_count": 98,
   "metadata": {},
   "outputs": [
    {
     "name": "stdout",
     "output_type": "stream",
     "text": [
      "total 16\n",
      "drwx------  4 lakshmi lakshmi 4096 Sep  3 19:21 \u001b[0m\u001b[01;34m.\u001b[0m\n",
      "drwxr-xr-x 29 lakshmi lakshmi 4096 Sep  3 19:27 \u001b[01;34m..\u001b[0m\n",
      "drwx------  2 lakshmi lakshmi 4096 Sep  3 19:15 \u001b[01;34msession1\u001b[0m\n",
      "drwxrw-r--  2 lakshmi lakshmi 4096 Sep  3 19:21 \u001b[01;34msession2\u001b[0m\n"
     ]
    }
   ],
   "source": [
    "ls -al chapter4"
   ]
  },
  {
   "cell_type": "code",
   "execution_count": 103,
   "metadata": {},
   "outputs": [],
   "source": [
    "touch chapter4/session2/hw42"
   ]
  },
  {
   "cell_type": "code",
   "execution_count": 104,
   "metadata": {},
   "outputs": [
    {
     "name": "stdout",
     "output_type": "stream",
     "text": [
      "\u001b[01;34mchapter4\u001b[00m\n",
      "├── \u001b[01;34msession1\u001b[00m\n",
      "│   └── hw41\n",
      "└── \u001b[01;34msession2\u001b[00m\n",
      "    └── hw42\n",
      "\n",
      "2 directories, 2 files\n"
     ]
    }
   ],
   "source": [
    "tree chapter4"
   ]
  },
  {
   "cell_type": "code",
   "execution_count": 105,
   "metadata": {},
   "outputs": [
    {
     "name": "stdout",
     "output_type": "stream",
     "text": [
      "chapter4:\n",
      "total 16\n",
      "drwx------  4 lakshmi lakshmi 4096 Sep  3 19:21 \u001b[0m\u001b[01;34m.\u001b[0m\n",
      "drwxr-xr-x 29 lakshmi lakshmi 4096 Sep  3 19:32 \u001b[01;34m..\u001b[0m\n",
      "drwx------  2 lakshmi lakshmi 4096 Sep  3 19:15 \u001b[01;34msession1\u001b[0m\n",
      "drwxrw-r--  2 lakshmi lakshmi 4096 Sep  3 19:33 \u001b[01;34msession2\u001b[0m\n",
      "\n",
      "chapter4/session1:\n",
      "total 8\n",
      "drwx------ 2 lakshmi lakshmi 4096 Sep  3 19:15 \u001b[01;34m.\u001b[0m\n",
      "drwx------ 4 lakshmi lakshmi 4096 Sep  3 19:21 \u001b[01;34m..\u001b[0m\n",
      "-rw-r----- 1 lakshmi lakshmi    0 Sep  3 18:59 hw41\n",
      "\n",
      "chapter4/session2:\n",
      "total 8\n",
      "drwxrw-r-- 2 lakshmi lakshmi 4096 Sep  3 19:33 \u001b[01;34m.\u001b[0m\n",
      "drwx------ 4 lakshmi lakshmi 4096 Sep  3 19:21 \u001b[01;34m..\u001b[0m\n",
      "-rw-rw-r-- 1 lakshmi lakshmi    0 Sep  3 19:33 hw42\n"
     ]
    }
   ],
   "source": [
    "ls -alR chapter4"
   ]
  },
  {
   "cell_type": "raw",
   "metadata": {},
   "source": [
    "COPY hw42: (read permission required)\n",
    "Users in my group      : yes\n",
    "Users outside my group : yes\n",
    "\n",
    "Change hw42: (write permission required)\n",
    "Users in my group      : yes \n",
    "Users outside my group : no\n",
    "\n",
    "Execute hw42: (execute permission required)\n",
    "Users in my group      : no \n",
    "Users outside my group : no"
   ]
  },
  {
   "cell_type": "code",
   "execution_count": 106,
   "metadata": {},
   "outputs": [],
   "source": [
    "chmod 666 chapter4/session2/hw42"
   ]
  },
  {
   "cell_type": "code",
   "execution_count": 107,
   "metadata": {},
   "outputs": [
    {
     "name": "stdout",
     "output_type": "stream",
     "text": [
      "chapter4:\n",
      "total 16\n",
      "drwx------  4 lakshmi lakshmi 4096 Sep  3 19:21 \u001b[0m\u001b[01;34m.\u001b[0m\n",
      "drwxr-xr-x 29 lakshmi lakshmi 4096 Sep  3 19:37 \u001b[01;34m..\u001b[0m\n",
      "drwx------  2 lakshmi lakshmi 4096 Sep  3 19:15 \u001b[01;34msession1\u001b[0m\n",
      "drwxrw-r--  2 lakshmi lakshmi 4096 Sep  3 19:33 \u001b[01;34msession2\u001b[0m\n",
      "\n",
      "chapter4/session1:\n",
      "total 8\n",
      "drwx------ 2 lakshmi lakshmi 4096 Sep  3 19:15 \u001b[01;34m.\u001b[0m\n",
      "drwx------ 4 lakshmi lakshmi 4096 Sep  3 19:21 \u001b[01;34m..\u001b[0m\n",
      "-rw-r----- 1 lakshmi lakshmi    0 Sep  3 18:59 hw41\n",
      "\n",
      "chapter4/session2:\n",
      "total 8\n",
      "drwxrw-r-- 2 lakshmi lakshmi 4096 Sep  3 19:33 \u001b[01;34m.\u001b[0m\n",
      "drwx------ 4 lakshmi lakshmi 4096 Sep  3 19:21 \u001b[01;34m..\u001b[0m\n",
      "-rw-rw-rw- 1 lakshmi lakshmi    0 Sep  3 19:33 hw42\n"
     ]
    }
   ],
   "source": [
    "ls -alR chapter4"
   ]
  }
 ],
 "metadata": {
  "kernelspec": {
   "display_name": "Bash",
   "language": "bash",
   "name": "bash"
  },
  "language_info": {
   "codemirror_mode": "shell",
   "file_extension": ".sh",
   "mimetype": "text/x-sh",
   "name": "bash"
  },
  "name": "Untitled1.ipynb"
 },
 "nbformat": 4,
 "nbformat_minor": 2
}
