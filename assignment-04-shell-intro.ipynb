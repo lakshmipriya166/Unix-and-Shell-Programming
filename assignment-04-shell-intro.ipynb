{
 "cells": [
  {
   "cell_type": "markdown",
   "metadata": {
    "ein.tags": "worksheet-0",
    "slideshow": {
     "slide_type": "-"
    }
   },
   "source": [
    "# Exercise 1\n",
    "1.  Launch a terminal.\n",
    "2.  Use the appropriate command to determine your login shell.\n",
    "3.  Use the `/etc/passwd` file to verify the result of step 2.\n",
    "4.  Use the appropriate command to determine your current shell. Is it\n",
    "    the same as your login shell?\n",
    "5.  Create a subshell shell that is not the same shell as your\n",
    "    login shell. For example, if your login shell is Bash, create a\n",
    "    `ksh` or C shell.\n",
    "6.  Check the Current shell again. Does it match with your login shell?\n",
    "7.  Create another shell which is the same type as your login shell.\n",
    "8.  Check the current shell again. Does it match with previous one?\n",
    "9.  Exit from the subshell and move to your login shell.\n",
    "10. Check the current shell again. Is it the same as the login shell?\n",
    "11. Quit the terminal.\n",
    "\n"
   ]
  },
  {
   "cell_type": "code",
   "execution_count": 1,
   "metadata": {},
   "outputs": [
    {
     "name": "stdout",
     "output_type": "stream",
     "text": [
      "/bin/bash\n"
     ]
    }
   ],
   "source": [
    "echo $SHELL"
   ]
  },
  {
   "cell_type": "code",
   "execution_count": 2,
   "metadata": {},
   "outputs": [
    {
     "name": "stdout",
     "output_type": "stream",
     "text": [
      "root:x:0:0:root:/root:/bin/bash\n",
      "daemon:x:1:1:daemon:/usr/sbin:/usr/sbin/nologin\n",
      "bin:x:2:2:bin:/bin:/usr/sbin/nologin\n",
      "sys:x:3:3:sys:/dev:/usr/sbin/nologin\n",
      "sync:x:4:65534:sync:/bin:/bin/sync\n",
      "games:x:5:60:games:/usr/games:/usr/sbin/nologin\n",
      "man:x:6:12:man:/var/cache/man:/usr/sbin/nologin\n",
      "lp:x:7:7:lp:/var/spool/lpd:/usr/sbin/nologin\n",
      "mail:x:8:8:mail:/var/mail:/usr/sbin/nologin\n",
      "news:x:9:9:news:/var/spool/news:/usr/sbin/nologin\n",
      "uucp:x:10:10:uucp:/var/spool/uucp:/usr/sbin/nologin\n",
      "proxy:x:13:13:proxy:/bin:/usr/sbin/nologin\n",
      "www-data:x:33:33:www-data:/var/www:/usr/sbin/nologin\n",
      "backup:x:34:34:backup:/var/backups:/usr/sbin/nologin\n",
      "list:x:38:38:Mailing List Manager:/var/list:/usr/sbin/nologin\n",
      "irc:x:39:39:ircd:/var/run/ircd:/usr/sbin/nologin\n",
      "gnats:x:41:41:Gnats Bug-Reporting System (admin):/var/lib/gnats:/usr/sbin/nologin\n",
      "nobody:x:65534:65534:nobody:/nonexistent:/usr/sbin/nologin\n",
      "systemd-network:x:100:102:systemd Network Management,,,:/run/systemd/netif:/usr/sbin/nologin\n",
      "systemd-resolve:x:101:103:systemd Resolver,,,:/run/systemd/resolve:/usr/sbin/nologin\n",
      "syslog:x:102:106::/home/syslog:/usr/sbin/nologin\n",
      "messagebus:x:103:107::/nonexistent:/usr/sbin/nologin\n",
      "_apt:x:104:65534::/nonexistent:/usr/sbin/nologin\n",
      "uuidd:x:105:111::/run/uuidd:/usr/sbin/nologin\n",
      "avahi-autoipd:x:106:112:Avahi autoip daemon,,,:/var/lib/avahi-autoipd:/usr/sbin/nologin\n",
      "usbmux:x:107:46:usbmux daemon,,,:/var/lib/usbmux:/usr/sbin/nologin\n",
      "dnsmasq:x:108:65534:dnsmasq,,,:/var/lib/misc:/usr/sbin/nologin\n",
      "rtkit:x:109:114:RealtimeKit,,,:/proc:/usr/sbin/nologin\n",
      "cups-pk-helper:x:110:116:user for cups-pk-helper service,,,:/home/cups-pk-helper:/usr/sbin/nologin\n",
      "speech-dispatcher:x:111:29:Speech Dispatcher,,,:/var/run/speech-dispatcher:/bin/false\n",
      "whoopsie:x:112:117::/nonexistent:/bin/false\n",
      "kernoops:x:113:65534:Kernel Oops Tracking Daemon,,,:/:/usr/sbin/nologin\n",
      "saned:x:114:119::/var/lib/saned:/usr/sbin/nologin\n",
      "pulse:x:115:120:PulseAudio daemon,,,:/var/run/pulse:/usr/sbin/nologin\n",
      "avahi:x:116:122:Avahi mDNS daemon,,,:/var/run/avahi-daemon:/usr/sbin/nologin\n",
      "colord:x:117:123:colord colour management daemon,,,:/var/lib/colord:/usr/sbin/nologin\n",
      "hplip:x:118:7:HPLIP system user,,,:/var/run/hplip:/bin/false\n",
      "geoclue:x:119:124::/var/lib/geoclue:/usr/sbin/nologin\n",
      "gnome-initial-setup:x:120:65534::/run/gnome-initial-setup/:/bin/false\n",
      "gdm:x:121:125:Gnome Display Manager:/var/lib/gdm3:/bin/false\n",
      "lakshmi:x:1000:1000:Lakshmi Priya,,,:/home/lakshmi:/bin/bash\n"
     ]
    }
   ],
   "source": [
    "cat /etc/passwd"
   ]
  },
  {
   "cell_type": "code",
   "execution_count": 3,
   "metadata": {},
   "outputs": [
    {
     "name": "stdout",
     "output_type": "stream",
     "text": [
      "/bin/bash\n"
     ]
    }
   ],
   "source": [
    "echo $0"
   ]
  },
  {
   "cell_type": "raw",
   "metadata": {},
   "source": [
    "The current shell is the same as the login shell."
   ]
  },
  {
   "cell_type": "code",
   "execution_count": null,
   "metadata": {},
   "outputs": [],
   "source": [
    "ksh"
   ]
  },
  {
   "cell_type": "code",
   "execution_count": null,
   "metadata": {},
   "outputs": [],
   "source": [
    "$ echo $SHELL\n",
    "/bin/bash\n",
    "$ echo $0\n",
    "ksh\n",
    "$ bash"
   ]
  },
  {
   "cell_type": "code",
   "execution_count": 1,
   "metadata": {},
   "outputs": [
    {
     "name": "stdout",
     "output_type": "stream",
     "text": [
      "/bin/bash\n"
     ]
    }
   ],
   "source": [
    "echo $SHELL"
   ]
  },
  {
   "cell_type": "code",
   "execution_count": null,
   "metadata": {},
   "outputs": [],
   "source": [
    "echo $0"
   ]
  },
  {
   "cell_type": "raw",
   "metadata": {},
   "source": [
    "bash"
   ]
  },
  {
   "cell_type": "code",
   "execution_count": 3,
   "metadata": {},
   "outputs": [
    {
     "name": "stdout",
     "output_type": "stream",
     "text": [
      "exit\n",
      "Restarting Bash"
     ]
    }
   ],
   "source": [
    "exit"
   ]
  },
  {
   "cell_type": "code",
   "execution_count": 4,
   "metadata": {},
   "outputs": [
    {
     "name": "stdout",
     "output_type": "stream",
     "text": [
      "exit\n",
      "Restarting Bash"
     ]
    }
   ],
   "source": [
    "exit"
   ]
  },
  {
   "cell_type": "code",
   "execution_count": 5,
   "metadata": {},
   "outputs": [
    {
     "name": "stdout",
     "output_type": "stream",
     "text": [
      "exit\n",
      "Restarting Bash"
     ]
    }
   ],
   "source": [
    "exit"
   ]
  },
  {
   "cell_type": "code",
   "execution_count": 6,
   "metadata": {},
   "outputs": [
    {
     "name": "stdout",
     "output_type": "stream",
     "text": [
      "/bin/bash\n"
     ]
    }
   ],
   "source": [
    "echo $SHELL"
   ]
  },
  {
   "cell_type": "code",
   "execution_count": 7,
   "metadata": {},
   "outputs": [
    {
     "name": "stdout",
     "output_type": "stream",
     "text": [
      "/bin/bash\n"
     ]
    }
   ],
   "source": [
    "echo $0"
   ]
  },
  {
   "cell_type": "markdown",
   "metadata": {
    "ein.tags": "worksheet-0",
    "slideshow": {
     "slide_type": "-"
    }
   },
   "source": [
    "# Exercise 2\n",
    "1.  Launch a terminal.\n",
    "2.  Use the `who` command and redirect the result to a file called\n",
    "    `file1`. Use the `more` command to see the contents of `file1`.\n",
    "3.  Use the `date` and `who` commands in sequence (in one line) so that\n",
    "    the output of `date` will display on the screen and the output of\n",
    "    `who` will be redirected to a file called `file2`. Use the `more`\n",
    "    command to check the contents of `file2`. It should be the same as\n",
    "    `file1` unless someone logged in or logged off between the\n",
    "    `who` commands.\n",
    "4.  Set vi to be your command—line editor.\n",
    "5.  Use your command-line editor to recall the line you typed in step 3.\n",
    "    Edit the line so that the output of both commands (`date` and `who`)\n",
    "    are redirected to a file called `file3`. Use the more command to\n",
    "    display the result.\n",
    "6.  Use the command-line editor to recall the line typed in step 3. Edit\n",
    "    the line so that the output of the first command (`date`) is\n",
    "    redirected to a file called `file4`, while the result of the `who`\n",
    "    command displays on the monitor without changing the relative\n",
    "    positions of the `date` and `who` commands. Use the more command to\n",
    "    verify the result.\n",
    "7.  Make a duplicate or `file3` and call it `file3.bak`\n",
    "8.  Use the command-line editor to recall the line created at step 5.\n",
    "    Edit the line so that the word \\`\\`date'' will be misspelled\n",
    "    as \\`\\`bate''. Execute the edited command and append the result to\n",
    "    `file3`. Use `more` to compare `file3` and `file3.bak`\n",
    "9.  Using command-line editing, recall the line created in step 8. Edit\n",
    "    it so that the errors also go to `file3` without replacing the\n",
    "    files contents. Check the contents of `file3` for verification.\n",
    "10. Using command-line editing, recall the line created in step 9. Edit\n",
    "    it so that the output goes to `file4` and errors go to `file5`.\n",
    "11. Quit the terminal.\n",
    "\n"
   ]
  },
  {
   "cell_type": "code",
   "execution_count": 2,
   "metadata": {},
   "outputs": [],
   "source": [
    "who > file1"
   ]
  },
  {
   "cell_type": "code",
   "execution_count": 3,
   "metadata": {},
   "outputs": [
    {
     "name": "stdout",
     "output_type": "stream",
     "text": [
      "lakshmi  :0           2019-09-03 18:13 (:0)\n"
     ]
    }
   ],
   "source": [
    "more file1"
   ]
  },
  {
   "cell_type": "code",
   "execution_count": 4,
   "metadata": {},
   "outputs": [
    {
     "name": "stdout",
     "output_type": "stream",
     "text": [
      "Tue Sep  3 20:05:07 IST 2019\n"
     ]
    }
   ],
   "source": [
    "date; who > file2"
   ]
  },
  {
   "cell_type": "code",
   "execution_count": 5,
   "metadata": {},
   "outputs": [
    {
     "name": "stdout",
     "output_type": "stream",
     "text": [
      "lakshmi  :0           2019-09-03 18:13 (:0)\n"
     ]
    }
   ],
   "source": [
    "more file2"
   ]
  },
  {
   "cell_type": "code",
   "execution_count": 6,
   "metadata": {},
   "outputs": [],
   "source": [
    "set -o vi"
   ]
  },
  {
   "cell_type": "code",
   "execution_count": 7,
   "metadata": {},
   "outputs": [],
   "source": [
    "(date; who) > file3"
   ]
  },
  {
   "cell_type": "code",
   "execution_count": 8,
   "metadata": {},
   "outputs": [
    {
     "name": "stdout",
     "output_type": "stream",
     "text": [
      "Tue Sep  3 20:05:10 IST 2019\n",
      "lakshmi  :0           2019-09-03 18:13 (:0)\n"
     ]
    }
   ],
   "source": [
    "more file3"
   ]
  },
  {
   "cell_type": "code",
   "execution_count": 9,
   "metadata": {},
   "outputs": [
    {
     "name": "stdout",
     "output_type": "stream",
     "text": [
      "lakshmi  :0           2019-09-03 18:13 (:0)\n"
     ]
    }
   ],
   "source": [
    "date > file4; who"
   ]
  },
  {
   "cell_type": "code",
   "execution_count": 10,
   "metadata": {},
   "outputs": [
    {
     "name": "stdout",
     "output_type": "stream",
     "text": [
      "Tue Sep  3 20:05:13 IST 2019\n"
     ]
    }
   ],
   "source": [
    "more file4"
   ]
  },
  {
   "cell_type": "code",
   "execution_count": 11,
   "metadata": {},
   "outputs": [],
   "source": [
    "cp file3 file3.bak"
   ]
  },
  {
   "cell_type": "code",
   "execution_count": 12,
   "metadata": {},
   "outputs": [],
   "source": [
    "(bate; who) > file3 2>&1"
   ]
  },
  {
   "cell_type": "code",
   "execution_count": 13,
   "metadata": {},
   "outputs": [
    {
     "name": "stdout",
     "output_type": "stream",
     "text": [
      "\n",
      "Command 'bate' not found, did you mean:\n",
      "\n",
      "  command 'kate' from snap kate (19.08.0)\n",
      "  command 'late' from deb late\n",
      "  command 'date' from deb coreutils\n",
      "  command 'bats' from deb bats\n",
      "  command 'bat' from deb bacula-console-qt\n",
      "  command 'kate' from deb kate\n",
      "\n",
      "See 'snap info <snapname>' for additional versions.\n",
      "\n",
      "lakshmi  :0           2019-09-03 18:13 (:0)\n"
     ]
    }
   ],
   "source": [
    "more file3"
   ]
  },
  {
   "cell_type": "code",
   "execution_count": 14,
   "metadata": {},
   "outputs": [],
   "source": [
    "(bate; who) &>> file3"
   ]
  },
  {
   "cell_type": "code",
   "execution_count": null,
   "metadata": {},
   "outputs": [],
   "source": [
    "(bate; who) 1> file4 2>file5"
   ]
  },
  {
   "cell_type": "markdown",
   "metadata": {
    "ein.tags": "worksheet-0",
    "slideshow": {
     "slide_type": "-"
    }
   },
   "source": [
    "# Exercise 3\n",
    "1.  Launch a terminal.\n",
    "2.  Create a subshell.\n",
    "3.  Set your command-line editor to `vi`.\n",
    "4.  Create a long list of the current directory and pipe the output to\n",
    "    the `pr`.\n",
    "5.  Edit the line in step 4 so that the result goes to the `pr` and at\n",
    "    the same time is saved as a file called `file1` with no output on\n",
    "    the monitor (use `tee`, pipe, and redirection).\n",
    "6.  Edit the line in step 5 so that the result of `ls -l` command be\n",
    "    sent to two files `file2` and `file3`.\n",
    "7.  Set the `noclobber` option.\n",
    "8.  Repeat the command in step 5. Do you get any error message? If so,\n",
    "    write down the error message.\n",
    "9.  Edit the command line in step 8 to force clobbering of `file1`.\n",
    "10. Unset the noclobber.\n",
    "11. Use the `ls -l` command and try to send the result to two files,\n",
    "    `file3` and `file4`, using the pipe and the `cp` command. What\n",
    "    message do you get? Write it down. What are the contents `file3` and\n",
    "    `file4`. Why can't `cp` accept its input from a pipe?\n",
    "12. Repeat the step 11 but use the `tee` command to solve the problem.\n",
    "13. Quit the terminal.\n",
    "\n"
   ]
  },
  {
   "cell_type": "code",
   "execution_count": null,
   "metadata": {},
   "outputs": [],
   "source": [
    "ksh"
   ]
  },
  {
   "cell_type": "code",
   "execution_count": null,
   "metadata": {},
   "outputs": [],
   "source": [
    "set -o vi"
   ]
  },
  {
   "cell_type": "code",
   "execution_count": 3,
   "metadata": {},
   "outputs": [
    {
     "name": "stdout",
     "output_type": "stream",
     "text": [
      "\n",
      "\n",
      "2019-09-03 20:13                                                  Page 1\n",
      "\n",
      "\n",
      "drwxr-xr-x 29 lakshmi lakshmi 4096 Sep  3 20:12 .\n",
      "\n",
      "\n",
      "\n",
      "\n",
      "\n",
      "\n",
      "\n",
      "\n",
      "\n",
      "\n",
      "\n",
      "\n",
      "\n",
      "\n",
      "\n",
      "\n",
      "\n",
      "\n",
      "\n",
      "\n",
      "\n",
      "\n",
      "\n",
      "\n",
      "\n",
      "\n",
      "\n",
      "\n",
      "\n",
      "\n",
      "\n",
      "\n",
      "\n",
      "\n",
      "\n",
      "\n",
      "\n",
      "\n",
      "\n",
      "\n",
      "\n",
      "\n",
      "\n",
      "\n",
      "\n",
      "\n",
      "\n",
      "\n",
      "\n",
      "\n",
      "\n",
      "\n",
      "\n",
      "\n",
      "\n",
      "\n",
      "\n",
      "\n",
      "\n",
      "\n"
     ]
    }
   ],
   "source": [
    "ls -ld | pr"
   ]
  },
  {
   "cell_type": "code",
   "execution_count": 1,
   "metadata": {},
   "outputs": [],
   "source": [
    "ls -ld | pr > file1"
   ]
  },
  {
   "cell_type": "code",
   "execution_count": 2,
   "metadata": {},
   "outputs": [],
   "source": [
    "ls -ld > file2 ; (cat file2) > file3"
   ]
  },
  {
   "cell_type": "code",
   "execution_count": 3,
   "metadata": {},
   "outputs": [
    {
     "name": "stdout",
     "output_type": "stream",
     "text": [
      "drwxr-xr-x 30 lakshmi lakshmi 4096 Sep  4 21:23 .\n"
     ]
    }
   ],
   "source": [
    "more file2"
   ]
  },
  {
   "cell_type": "code",
   "execution_count": 4,
   "metadata": {},
   "outputs": [
    {
     "name": "stdout",
     "output_type": "stream",
     "text": [
      "drwxr-xr-x 30 lakshmi lakshmi 4096 Sep  4 21:23 .\n"
     ]
    }
   ],
   "source": [
    "more file3"
   ]
  },
  {
   "cell_type": "code",
   "execution_count": 5,
   "metadata": {},
   "outputs": [],
   "source": [
    "set -o noclobber"
   ]
  },
  {
   "cell_type": "code",
   "execution_count": 6,
   "metadata": {},
   "outputs": [
    {
     "name": "stdout",
     "output_type": "stream",
     "text": [
      "bash: file1: cannot overwrite existing file\n",
      "ls: write error: Broken pipe\n"
     ]
    },
    {
     "ename": "",
     "evalue": "1",
     "output_type": "error",
     "traceback": []
    }
   ],
   "source": [
    "ls -ld | pr > file1"
   ]
  },
  {
   "cell_type": "code",
   "execution_count": 7,
   "metadata": {},
   "outputs": [],
   "source": [
    "set +o noclobber"
   ]
  },
  {
   "cell_type": "code",
   "execution_count": 8,
   "metadata": {},
   "outputs": [],
   "source": [
    "ls -ld | pr > file1"
   ]
  },
  {
   "cell_type": "code",
   "execution_count": null,
   "metadata": {},
   "outputs": [
    {
     "name": "stdout",
     "output_type": "stream",
     "text": [
      "\n",
      "\n",
      "2019-09-04 21:24                                                  Page 1\n",
      "\n",
      "\n",
      "drwxr-xr-x 30 lakshmi lakshmi 4096 Sep  4 21:23 .\n",
      "\n",
      "\n",
      "\n",
      "\n",
      "\n",
      "\n",
      "\n",
      "\n",
      "\n",
      "\n",
      "\n",
      "\n",
      "\n",
      "\n",
      "\n",
      "\n",
      "\n"
     ]
    }
   ],
   "source": [
    "more file1"
   ]
  },
  {
   "cell_type": "code",
   "execution_count": 1,
   "metadata": {},
   "outputs": [],
   "source": [
    "ls -l | cat > file3 ; cp file3 file4"
   ]
  },
  {
   "cell_type": "code",
   "execution_count": null,
   "metadata": {},
   "outputs": [
    {
     "name": "stdout",
     "output_type": "stream",
     "text": [
      "total 1224\n",
      "-rw-r--r--   1 lakshmi lakshmi  22756 Sep  3 21:46 185001083_A5\n",
      "drwxr-xr-x 183 lakshmi lakshmi  12288 Aug 31 21:42 anaconda3\n",
      "drwxr-xr-x   3 lakshmi lakshmi   4096 Sep  1 19:32 assignment\n",
      "-rw-rw-r--   1 lakshmi lakshmi  52964 Sep  3 18:42 assignment-01-introduction.ip\n",
      "ynb\n",
      "-rw-rw-r--   1 lakshmi lakshmi  22853 Sep  3 18:20 assignment-02-filesystem.ipyn\n",
      "b\n",
      "-rw-r--r--   1 lakshmi lakshmi  17082 Sep  3 19:38 assignment-03-permissions.ipy\n",
      "nb\n",
      "-rw-r--r--   1 lakshmi lakshmi  37970 Sep  4 21:44 assignment-04-shell-intro.ipy\n",
      "nb\n",
      "-rw-r--r--   1 lakshmi lakshmi  10882 Sep  3 21:58 assignment-05-filters.ipynb\n",
      "-rw-r--r--   1 lakshmi lakshmi  23332 Sep  4 19:06 assignment-06-grep.ipynb\n",
      "-rw-r--r--   1 lakshmi lakshmi  20676 Sep  4 20:21 assignment-07-sed.ipynb\n",
      "drwxr-xr-x   2 lakshmi lakshmi   4096 Sep  3 14:02 backups\n",
      "drwxr-xr-x   3 lakshmi lakshmi   4096 Sep  3 18:20 business\n",
      "drwx------   4 lakshmi lakshmi   4096 Sep  3 19:21 chapter4\n",
      "-rw-rw-r--   1 lakshmi lakshmi  67554 Sep  1 17:11 commands\n",
      "drwxr-xr-x   2 lakshmi lakshmi   4096 Sep  4 21:44 data\n",
      "drwxr-xr-x   2 lakshmi lakshmi   4096 Sep  1 05:37 Desktop\n",
      "drwxr-xr-x   2 lakshmi lakshmi   4096 Sep  1 05:37 Documents\n",
      "drwxr-xr-x   2 lakshmi lakshmi   4096 Sep  4 20:02 Downloads\n"
     ]
    }
   ],
   "source": [
    "more file3"
   ]
  },
  {
   "cell_type": "code",
   "execution_count": null,
   "metadata": {},
   "outputs": [],
   "source": [
    "more file4"
   ]
  },
  {
   "cell_type": "code",
   "execution_count": null,
   "metadata": {},
   "outputs": [],
   "source": [
    "ls -l | tee file3 | tee file4"
   ]
  },
  {
   "cell_type": "code",
   "execution_count": null,
   "metadata": {},
   "outputs": [],
   "source": [
    "more file3"
   ]
  },
  {
   "cell_type": "code",
   "execution_count": null,
   "metadata": {},
   "outputs": [],
   "source": [
    "more file4"
   ]
  },
  {
   "cell_type": "markdown",
   "metadata": {
    "ein.tags": "worksheet-0",
    "slideshow": {
     "slide_type": "-"
    }
   },
   "source": [
    "# Exercise 4\n",
    "1.  Launch a terminal.\n",
    "2.  Without using an editor, create a one-line file, called `file1`,\n",
    "    using the `echo` command (use output redirection). This is one of\n",
    "    the ways we can create a short file quickly.\n",
    "3.  Check the content of `file1` using `more` command.\n",
    "4.  Now, without using an editor or create two-line file `file2`, using\n",
    "    `echo` command. Use double quotes for the argument of the\n",
    "    `echo` command. Put the opening quote in the first line and the\n",
    "    closing quotes in the second line, but do not close it until the end\n",
    "    of the second line. In your own words, explain what you just did and\n",
    "    why it works.\n",
    "5.  Check the contents of `file2 using the =more` command.\n",
    "6.  Store \"UNIX vs. Others\" in a variable called `facts`.\n",
    "7.  Now use the following command:\n",
    "\n",
    "    ``` {.example}\n",
    "    echo \"This is a fact. $facts in our life.\n",
    "    ```\n",
    "\n",
    "    What is printed and why?\n",
    "8.  Now use the following command:\n",
    "\n",
    "    ``` {.example}\n",
    "    echo \"This is a fact.  '$facts' in our life\"   \n",
    "    ```\n",
    "\n",
    "    What is printed and why?\n",
    "9.  Now use the following command:\n",
    "\n",
    "    ``` {.example}\n",
    "    echo \"This is a fact \\$facts in our life\"   \n",
    "    ```\n",
    "\n",
    "    What would be printed and why?\n",
    "10. Try to use a command to print the following message (including\n",
    "    the quotes) using the value of the variable facts:\n",
    "\n",
    "    ``` {.example}\n",
    "    \"This is a fact \"UNIX vs. Others\" in our life\"\n",
    "    ```\n",
    "\n",
    "11. Quit the terminal.\n",
    "\n"
   ]
  },
  {
   "cell_type": "code",
   "execution_count": 2,
   "metadata": {},
   "outputs": [],
   "source": [
    "echo This is file1 > file1"
   ]
  },
  {
   "cell_type": "code",
   "execution_count": 4,
   "metadata": {},
   "outputs": [
    {
     "name": "stdout",
     "output_type": "stream",
     "text": [
      "This is file1\n"
     ]
    }
   ],
   "source": [
    "more file1"
   ]
  },
  {
   "cell_type": "code",
   "execution_count": 6,
   "metadata": {},
   "outputs": [],
   "source": [
    "echo \"This is \n",
    "file2\" > file2"
   ]
  },
  {
   "cell_type": "raw",
   "metadata": {},
   "source": [
    "The regular meaning of enter key is to execute the command entered.\n",
    "Double quotes are used to skip the normal meaning of enter key in command line which is to execute the command and instead introduce a new line."
   ]
  },
  {
   "cell_type": "code",
   "execution_count": 7,
   "metadata": {},
   "outputs": [
    {
     "name": "stdout",
     "output_type": "stream",
     "text": [
      "This is \n",
      "file2\n"
     ]
    }
   ],
   "source": [
    "more file2"
   ]
  },
  {
   "cell_type": "code",
   "execution_count": 9,
   "metadata": {},
   "outputs": [],
   "source": [
    "facts=\"UNIX vs. Others\""
   ]
  },
  {
   "cell_type": "code",
   "execution_count": 11,
   "metadata": {},
   "outputs": [
    {
     "name": "stdout",
     "output_type": "stream",
     "text": [
      "This is a fact. UNIX vs. Others in our life.\n"
     ]
    }
   ],
   "source": [
    "echo \"This is a fact. $facts in our life.\""
   ]
  },
  {
   "cell_type": "raw",
   "metadata": {},
   "source": [
    "Variable substitution occurs."
   ]
  },
  {
   "cell_type": "code",
   "execution_count": 12,
   "metadata": {},
   "outputs": [
    {
     "name": "stdout",
     "output_type": "stream",
     "text": [
      "This is a fact.  'UNIX vs. Others' in our life\n"
     ]
    }
   ],
   "source": [
    "echo \"This is a fact.  '$facts' in our life\""
   ]
  },
  {
   "cell_type": "raw",
   "metadata": {},
   "source": [
    "Variable substitution occurs."
   ]
  },
  {
   "cell_type": "code",
   "execution_count": 13,
   "metadata": {},
   "outputs": [
    {
     "name": "stdout",
     "output_type": "stream",
     "text": [
      "This is a fact $facts in our life\n"
     ]
    }
   ],
   "source": [
    "echo \"This is a fact \\$facts in our life\""
   ]
  },
  {
   "cell_type": "raw",
   "metadata": {},
   "source": [
    "Variable substitution does not occur as the normal meaning of '$' is skipped."
   ]
  },
  {
   "cell_type": "code",
   "execution_count": 20,
   "metadata": {},
   "outputs": [
    {
     "name": "stdout",
     "output_type": "stream",
     "text": [
      "\"This is a fact. \"UNIX vs. Others\" in our life.\"\n"
     ]
    }
   ],
   "source": [
    "echo \"\\\"This is a fact. \\\"$facts\\\" in our life.\\\"\""
   ]
  },
  {
   "cell_type": "markdown",
   "metadata": {
    "ein.tags": "worksheet-0",
    "slideshow": {
     "slide_type": "-"
    }
   },
   "source": [
    "# Exercise 5\n",
    "1.  Launch a terminal.\n",
    "2.  Store the word \\~\"PARENT\"\\~ in a variable called `first`.\n",
    "3.  Print the value of the variable `first` (using `echo` command).\n",
    "4.  Create a subshell shell using the same type of shell as your\n",
    "    login shell.\n",
    "5.  Print the value of the variable `first` in this subshell. What was\n",
    "    printed? If \\~\"PARENT\"\\~ was not printed, explain why. Hint: What\n",
    "    did the parent export to the subshell when the subshell was created?\n",
    "6.  Store the word \\~\"SUBSHELL\"\\~ in a variable called `second`.\n",
    "7.  Print the value of the variable `second`.\n",
    "8.  Exit from the subshell shell and move to your login shell.\n",
    "9.  Print the value of `first`. What was printed? How do you explain\n",
    "    this result?\n",
    "10. Print the value of `second`. What was printed? How do you explain\n",
    "    this result?\n",
    "11. Quit the terminal.\n",
    "\n"
   ]
  },
  {
   "cell_type": "code",
   "execution_count": 21,
   "metadata": {},
   "outputs": [],
   "source": [
    "first=PARENT"
   ]
  },
  {
   "cell_type": "code",
   "execution_count": 22,
   "metadata": {},
   "outputs": [
    {
     "name": "stdout",
     "output_type": "stream",
     "text": [
      "PARENT\n"
     ]
    }
   ],
   "source": [
    "echo $first"
   ]
  },
  {
   "cell_type": "code",
   "execution_count": null,
   "metadata": {},
   "outputs": [],
   "source": [
    "ksh\n",
    "echo $first\n",
    "\n",
    "second=SUBSHELL\n",
    "echo $second\n",
    "SUBSHELL"
   ]
  },
  {
   "cell_type": "code",
   "execution_count": 23,
   "metadata": {},
   "outputs": [
    {
     "name": "stdout",
     "output_type": "stream",
     "text": [
      "PARENT\n"
     ]
    }
   ],
   "source": [
    "echo $first"
   ]
  },
  {
   "cell_type": "code",
   "execution_count": 24,
   "metadata": {},
   "outputs": [
    {
     "name": "stdout",
     "output_type": "stream",
     "text": [
      "\n"
     ]
    }
   ],
   "source": [
    "echo $second"
   ]
  },
  {
   "cell_type": "markdown",
   "metadata": {
    "ein.tags": "worksheet-0",
    "slideshow": {
     "slide_type": "-"
    }
   },
   "source": [
    "# Exercise 6\n",
    "\n",
    "1.  Launch a terminal.\n",
    "2.  Display the contents of the system startup file (the file name is\n",
    "    different in different shells). Try to change some entries in\n",
    "    this file.\n",
    "3.  Display the contents of your personal startup life (the file same is\n",
    "    different is different shells}.\n",
    "4.  Try to change some entries in this file.\n",
    "5.  Display the contents of system-wide shutdown files (if there\n",
    "    is one).\n",
    "6.  Display the contents of your personal shutdown files (if there\n",
    "    is one).\n",
    "7.  Quit the terminal.\n",
    "\n"
   ]
  },
  {
   "cell_type": "code",
   "execution_count": 25,
   "metadata": {},
   "outputs": [
    {
     "name": "stdout",
     "output_type": "stream",
     "text": [
      "# /etc/profile: system-wide .profile file for the Bourne shell (sh(1))\n",
      "# and Bourne compatible shells (bash(1), ksh(1), ash(1), ...).\n",
      "\n",
      "if [ \"${PS1-}\" ]; then\n",
      "  if [ \"${BASH-}\" ] && [ \"$BASH\" != \"/bin/sh\" ]; then\n",
      "    # The file bash.bashrc already sets the default PS1.\n",
      "    # PS1='\\h:\\w\\$ '\n",
      "    if [ -f /etc/bash.bashrc ]; then\n",
      "      . /etc/bash.bashrc\n",
      "    fi\n",
      "  else\n",
      "    if [ \"`id -u`\" -eq 0 ]; then\n",
      "      PS1='# '\n",
      "    else\n",
      "      PS1='$ '\n",
      "    fi\n",
      "  fi\n",
      "fi\n",
      "\n",
      "if [ -d /etc/profile.d ]; then\n",
      "  for i in /etc/profile.d/*.sh; do\n",
      "    if [ -r $i ]; then\n",
      "      . $i\n",
      "    fi\n",
      "  done\n",
      "  unset i\n",
      "fi\n"
     ]
    }
   ],
   "source": [
    "cat /etc/profile"
   ]
  },
  {
   "cell_type": "code",
   "execution_count": 28,
   "metadata": {},
   "outputs": [
    {
     "name": "stdout",
     "output_type": "stream",
     "text": [
      "# ~/.profile: executed by the command interpreter for login shells.\n",
      "# This file is not read by bash(1), if ~/.bash_profile or ~/.bash_login\n",
      "# exists.\n",
      "# see /usr/share/doc/bash/examples/startup-files for examples.\n",
      "# the files are located in the bash-doc package.\n",
      "\n",
      "# the default umask is set in /etc/profile; for setting the umask\n",
      "# for ssh logins, install and configure the libpam-umask package.\n",
      "#umask 022\n",
      "\n",
      "# if running bash\n",
      "if [ -n \"$BASH_VERSION\" ]; then\n",
      "    # include .bashrc if it exists\n",
      "    if [ -f \"$HOME/.bashrc\" ]; then\n",
      "\t. \"$HOME/.bashrc\"\n",
      "    fi\n",
      "fi\n",
      "\n",
      "# set PATH so it includes user's private bin if it exists\n",
      "if [ -d \"$HOME/bin\" ] ; then\n",
      "    PATH=\"$HOME/bin:$PATH\"\n",
      "fi\n",
      "\n",
      "# set PATH so it includes user's private bin if it exists\n",
      "if [ -d \"$HOME/.local/bin\" ] ; then\n",
      "    PATH=\"$HOME/.local/bin:$PATH\"\n",
      "fi\n"
     ]
    }
   ],
   "source": [
    "cat ~/.profile"
   ]
  },
  {
   "cell_type": "code",
   "execution_count": null,
   "metadata": {},
   "outputs": [],
   "source": []
  },
  {
   "cell_type": "code",
   "execution_count": 29,
   "metadata": {},
   "outputs": [
    {
     "name": "stdout",
     "output_type": "stream",
     "text": [
      "bash: /home/lakshmi/.bash_logout: Permission denied\n"
     ]
    },
    {
     "ename": "",
     "evalue": "126",
     "output_type": "error",
     "traceback": []
    }
   ],
   "source": [
    "~/.bash_logout"
   ]
  }
 ],
 "metadata": {
  "kernelspec": {
   "display_name": "Bash",
   "language": "bash",
   "name": "bash"
  },
  "language_info": {
   "codemirror_mode": "shell",
   "file_extension": ".sh",
   "mimetype": "text/x-sh",
   "name": "bash"
  },
  "name": "Untitled2.ipynb"
 },
 "nbformat": 4,
 "nbformat_minor": 2
}
