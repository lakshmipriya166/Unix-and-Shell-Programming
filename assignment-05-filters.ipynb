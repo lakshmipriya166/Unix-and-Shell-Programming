{
 "cells": [
  {
   "cell_type": "markdown",
   "metadata": {},
   "source": [
    "# Exercise 1\n",
    "\n",
    "1.  Launch a terminal.\n",
    "2.  Use the `cat` command to create a file containing the\n",
    "    following data. Name it `Ch6S1F1`. Use tabs to separate the fields.\n",
    "    ``` {.example}\n",
    "    1425    Juan    14.25\n",
    "    4321    George  21.11\n",
    "    6781    Anna    16.77\n",
    "    1451    Ben     21.77\n",
    "    2277    Tuan    18.77\n",
    "    ```\n",
    "3.  Use the `cat` command to display the file and check for accuracy.\n",
    "4.  Use the `vi` command to correct any errors in the file.\n",
    "5.  Use the `sort` command to sort the file Ch6SlFl according to the\n",
    "    first field. Call the sorted file `Ch6S1F2` (same name).\n",
    "6.  Display the file `Ch6S1F2`.\n",
    "7.  Use the `cut` and `paste` commands to swap fields 2 and 3 of\n",
    "    `Ch6S1F2`. Call it `Ch6S1F5`.\n",
    "8.  Display the file `Ch6S1F5`.\n",
    "9.  Quit the terminal.\n"
   ]
  },
  {
   "cell_type": "code",
   "execution_count": 1,
   "metadata": {},
   "outputs": [
    {
     "name": "stdout",
     "output_type": "stream",
     "text": [
      "1425    Juan    14.25\n",
      "4321    George  21.11\n",
      "6781    Anna    16.77\n",
      "1451    Ben     21.77\n",
      "2277    Tuan    18.77\n"
     ]
    }
   ],
   "source": [
    "cat files/Ch6S1F1"
   ]
  },
  {
   "cell_type": "code",
   "execution_count": 2,
   "metadata": {},
   "outputs": [],
   "source": [
    "sort files/Ch6S1F1 > files/Ch6S1F2"
   ]
  },
  {
   "cell_type": "code",
   "execution_count": 3,
   "metadata": {},
   "outputs": [
    {
     "name": "stdout",
     "output_type": "stream",
     "text": [
      "1425    Juan    14.25\n",
      "1451    Ben     21.77\n",
      "2277    Tuan    18.77\n",
      "4321    George  21.11\n",
      "6781    Anna    16.77\n"
     ]
    }
   ],
   "source": [
    "cat files/Ch6S1F2"
   ]
  },
  {
   "cell_type": "markdown",
   "metadata": {},
   "source": [
    "Use the `cut` and `paste` commands to swap fields 2 and 3 of `Ch6S1F2`. Call it `Ch6S1F5`."
   ]
  },
  {
   "cell_type": "code",
   "execution_count": 4,
   "metadata": {},
   "outputs": [
    {
     "name": "stdout",
     "output_type": "stream",
     "text": [
      "14.25\tJuan\n",
      "21.77\tBen\n",
      "18.77\tTuan\n",
      "21.11\tGeorge\n",
      "16.77\tAnna\n"
     ]
    }
   ],
   "source": [
    "cat files/Ch6S1F2 | tr -s \" \" | cut -d\" \" -f2 > files/Ch6S1F3\n",
    "cat files/Ch6S1F2 | tr -s \" \" | cut -d\" \" -f3 > files/Ch6S1F4\n",
    "paste files/Ch6S1F4 files/Ch6S1F3 > files/Ch6S1F5\n",
    "cat files/Ch6S1F5"
   ]
  },
  {
   "cell_type": "markdown",
   "metadata": {},
   "source": [
    "# Exercise 2\n",
    "\n",
    "1.  Launch a terminal.\n",
    "2.  Use the `tail` command to create and save the following file. Call\n",
    "    it `Ch6S2F1`.\n",
    "    ``` {.example}\n",
    "    PASSES ALL DATA FROM INPUT TO OUTPUT\n",
    "    PASSES ONLY SPECIFIED COLUMNS\n",
    "    PASSES NUMBER OF SPECIFIED LINES AT BEGINNING\n",
    "    COMBINES COLUMNS\n",
    "    ARRANGES DATA IN SEQUENCE\n",
    "    PASSES NUMBER OF SPECIFIED LINES AT THE END OF DATA\n",
    "    TRANSLATES ONE OR MORE CHARACTERS\n",
    "    DELETES DUPLICATE LINES\n",
    "    COUNTS CHARACTERS} WORDS, OR’LINES\n",
    "    ABCDEFGHIJKLMNOPQRSTUVWXYZ\n",
    "    ```\n",
    "3.  Use the `cat` command to view its contents.\n",
    "4.  Use `vi` to correct any errors.\n",
    "5.  Encrypt this file using the following steps:\n",
    "    1.  Reverse the file line by line (the last line becOmes the first,\n",
    "        the line before the last line becomes the second, and so on).\n",
    "    2.  Call the file `Ch6S2F1Encr`.\n",
    "6.  Use the `cat` command to view its contents.\n",
    "7.  Display the file.\n",
    "8.  Decrypt the file (reverse the encryption steps). Call it `Ch6S2F1`\n",
    "    (original name).\n",
    "9.  Display the file `Ch6S1F1`.\n",
    "10. Quit the terminal."
   ]
  },
  {
   "cell_type": "code",
   "execution_count": null,
   "metadata": {},
   "outputs": [],
   "source": [
    "tail > files/Ch6S2F1<<EOF"
   ]
  },
  {
   "cell_type": "code",
   "execution_count": 5,
   "metadata": {},
   "outputs": [
    {
     "name": "stdout",
     "output_type": "stream",
     "text": [
      "PASSES ALL DATA FROM INPUT TO OUTPUT\n",
      "PASSES ONLY SPECIFIED COLUMNS\n",
      "PASSES NUMBER OF SPECIFIED LINES AT BEGINNING\n",
      "COMBINES COLUMNS\n",
      "ARRANGES DATA IN SEQUENCE\n",
      "PASSES NUMBER OF SPECIFIED LINES AT THE END OF DATA\n",
      "TRANSLATES ONE OR MORE CHARACTERS\n",
      "DELETES DUPLICATE LINES\n",
      "COUNTS CHARACTERS WORDS, OR LINES\n",
      "ABCDEFGHIJKLMNOPQRSTUVWXYZ\n"
     ]
    }
   ],
   "source": [
    "cat files/Ch6S2F1"
   ]
  },
  {
   "cell_type": "code",
   "execution_count": 6,
   "metadata": {},
   "outputs": [],
   "source": [
    "tac files/Ch6S2F1 > files/Ch6S2F1Encr"
   ]
  },
  {
   "cell_type": "code",
   "execution_count": 10,
   "metadata": {},
   "outputs": [
    {
     "name": "stdout",
     "output_type": "stream",
     "text": [
      "ABCDEFGHIJKLMNOPQRSTUVWXYZ\n",
      "COUNTS CHARACTERS WORDS, OR LINES\n",
      "DELETES DUPLICATE LINES\n",
      "TRANSLATES ONE OR MORE CHARACTERS\n",
      "PASSES NUMBER OF SPECIFIED LINES AT THE END OF DATA\n",
      "ARRANGES DATA IN SEQUENCE\n",
      "COMBINES COLUMNS\n",
      "PASSES NUMBER OF SPECIFIED LINES AT BEGINNING\n",
      "PASSES ONLY SPECIFIED COLUMNS\n",
      "PASSES ALL DATA FROM INPUT TO OUTPUT\n"
     ]
    }
   ],
   "source": [
    "cat files/Ch6S2F1Encr"
   ]
  },
  {
   "cell_type": "code",
   "execution_count": 11,
   "metadata": {},
   "outputs": [],
   "source": [
    "tac files/Ch6S2F1Encr > files/Ch6S2F1"
   ]
  },
  {
   "cell_type": "code",
   "execution_count": 12,
   "metadata": {},
   "outputs": [
    {
     "name": "stdout",
     "output_type": "stream",
     "text": [
      "PASSES ALL DATA FROM INPUT TO OUTPUT\n",
      "PASSES ONLY SPECIFIED COLUMNS\n",
      "PASSES NUMBER OF SPECIFIED LINES AT BEGINNING\n",
      "COMBINES COLUMNS\n",
      "ARRANGES DATA IN SEQUENCE\n",
      "PASSES NUMBER OF SPECIFIED LINES AT THE END OF DATA\n",
      "TRANSLATES ONE OR MORE CHARACTERS\n",
      "DELETES DUPLICATE LINES\n",
      "COUNTS CHARACTERS WORDS, OR LINES\n",
      "ABCDEFGHIJKLMNOPQRSTUVWXYZ\n"
     ]
    }
   ],
   "source": [
    "cat files/Ch6S2F1"
   ]
  },
  {
   "cell_type": "markdown",
   "metadata": {},
   "source": [
    "# Exercise 3\n",
    "\n",
    "1.  Launch a terminal.\n",
    "2.  Use the `cat` command to create and save the folloWing file. Call it\n",
    "    `Ch6S3F1`.\n",
    "    ``` {.example}\n",
    "    ALPHABETICAL FACTS.\n",
    "    THE FIRST THREE LETTERS ARE ABC.\n",
    "    THE MEDIAN LETTERS ARE MN.\n",
    "    THE LAST THREE LETTERS ARE XYZ.\n",
    "    THE FIRST WORD IN MY DICTIONARY IS AAL.\n",
    "    THE LAST WORD IN MY DICTIONARY IS ZYTHUM.\n",
    "    THE QUICK BROWN FOX JUMPED OVER THE LAZY DOG.\n",
    "    THE LAST LETTER MAY BE PRONOUNCED ZEE OR ZED.\n",
    "    THE FIRST GREEK LETTER IS ALPHA.\n",
    "    THE LAST GREEK LETTER IS OMEGA.\n",
    "    ```\n",
    "3.  Use the `cat` command to check the contents.\n",
    "4.  Use `vi` to correct any errors.\n",
    "5.  Display the file.\n",
    "6.  Using the `tr` command, encrypt this file by shifting each letter\n",
    "    five characters to the end of the character set. For example, A\n",
    "    becomes F, B becomes G, and soon. The end of the alphabet will\n",
    "    wrap around. For example, Y becomes D and Z becomes E. Spaces and\n",
    "    newlines would be preserved. This is called Caesarian encryption\n",
    "    because it was invented by Julius Caesar. Call the encrypted file\n",
    "    `Ch6S3F1Encr`.\n",
    "7.  Use the cat command to check the contents of the encrypted file.\n",
    "8.  Display the file.\n",
    "9.  Now use decryption (reverse strategy) to decrypt the file. Call the\n",
    "    new file `Ch6S3F1` (original name).\n",
    "10. Use the `cat` command to look at the contents of the file. Is it the\n",
    "    same as the original file?\n",
    "11. Display the file.\n",
    "12. Quit the terminal."
   ]
  },
  {
   "cell_type": "code",
   "execution_count": 16,
   "metadata": {},
   "outputs": [
    {
     "name": "stdout",
     "output_type": "stream",
     "text": [
      "ALPHABETICAL FACTS.\n",
      "THE FIRST THREE LETTERS ARE ABC.\n",
      "THE MEDIAN LETTERS ARE MN.\n",
      "THE LAST THREE LETTERS ARE XYZ.\n",
      "THE FIRST WORD IN MY DICTIONARY IS AAL.\n",
      "THE LAST WORD IN MY DICTIONARY IS ZYTHUM.\n",
      "THE QUICK BROWN FOX JUMPED OVER THE LAZY DOG.\n",
      "THE LAST LETTER MAY BE PRONOUNCED ZEE OR ZED.\n",
      "THE FIRST GREEK LETTER IS ALPHA.\n",
      "THE LAST GREEK LETTER IS OMEGA.\n"
     ]
    }
   ],
   "source": [
    "cat files/Ch6S3F1"
   ]
  },
  {
   "cell_type": "code",
   "execution_count": 17,
   "metadata": {},
   "outputs": [
    {
     "name": "stdout",
     "output_type": "stream",
     "text": [
      "FQUMFGJYNHFQ KFHYX.\n",
      "YMJ KNWXY YMWJJ QJYYJWX FWJ FGH.\n",
      "YMJ RJINFS QJYYJWX FWJ RS.\n",
      "YMJ QFXY YMWJJ QJYYJWX FWJ CDE.\n",
      "YMJ KNWXY BTWI NS RD INHYNTSFWD NX FFQ.\n",
      "YMJ QFXY BTWI NS RD INHYNTSFWD NX EDYMZR.\n",
      "YMJ VZNHP GWTBS KTC OZRUJI TAJW YMJ QFED ITL.\n",
      "YMJ QFXY QJYYJW RFD GJ UWTSTZSHJI EJJ TW EJI.\n",
      "YMJ KNWXY LWJJP QJYYJW NX FQUMF.\n",
      "YMJ QFXY LWJJP QJYYJW NX TRJLF.\n"
     ]
    }
   ],
   "source": [
    "cat files/Ch6S3F1 | tr [A-Z] [F-ZA-E] > files/Ch6S3F2\n",
    "cat files/Ch6S3F2"
   ]
  },
  {
   "cell_type": "code",
   "execution_count": 18,
   "metadata": {},
   "outputs": [
    {
     "name": "stdout",
     "output_type": "stream",
     "text": [
      "ALPHABETICAL FACTS.\n",
      "THE FIRST THREE LETTERS ARE ABC.\n",
      "THE MEDIAN LETTERS ARE MN.\n",
      "THE LAST THREE LETTERS ARE XYZ.\n",
      "THE FIRST WORD IN MY DICTIONARY IS AAL.\n",
      "THE LAST WORD IN MY DICTIONARY IS ZYTHUM.\n",
      "THE QUICK BROWN FOX JUMPED OVER THE LAZY DOG.\n",
      "THE LAST LETTER MAY BE PRONOUNCED ZEE OR ZED.\n",
      "THE FIRST GREEK LETTER IS ALPHA.\n",
      "THE LAST GREEK LETTER IS OMEGA.\n"
     ]
    }
   ],
   "source": [
    "cat files/Ch6S3F2 | tr [F-ZA-E] [A-Z] > files/Ch6S3F3\n",
    "cat files/Ch6S3F3"
   ]
  },
  {
   "cell_type": "markdown",
   "metadata": {},
   "source": [
    "#  Exercise 4\n",
    "1.  Launch a terminal.\n",
    "2.  Use the cat command to create and save the followmg file. Do not type the headings. Call it Ch6S4F1.\n",
    "```\n",
    "ID   Hour Rate       Hours Worked\n",
    "1420 12.56   45 L\n",
    "3456 14.56   22\n",
    "2341 45.12   34\n",
    "1122 23.55   28\n",
    "1443 23.23   19\n",
    "2351 67.90   56\n",
    "8001 7.00    14\n",
    "```\n",
    "3.  Use the cat command to check its contents.\n",
    "4.  Use vi to correct any errors.\n",
    "5.  Display the file.\n",
    "6.  Use a command to show the number of workers.\n",
    "7.  Use a command to sort the file based on id.\n",
    "8.  Use one single command to show the worker who is paid the highest             hourly rate.\n",
    "9.  Use one single command to show the worker who worked more than anybody else.The command should show only the id of the worker.\n",
    "10.  Quit the terminal"
   ]
  },
  {
   "cell_type": "code",
   "execution_count": 2,
   "metadata": {},
   "outputs": [
    {
     "name": "stdout",
     "output_type": "stream",
     "text": [
      "1420 12.56   45 \n",
      "3456 14.56   22\n",
      "2341 45.12   34\n",
      "1122 23.55   28\n",
      "1443 23.23   19\n",
      "2351 67.90   56\n",
      "8001 7.00    14\n"
     ]
    }
   ],
   "source": [
    "cat Ch6S4F1"
   ]
  },
  {
   "cell_type": "code",
   "execution_count": 3,
   "metadata": {},
   "outputs": [
    {
     "name": "stdout",
     "output_type": "stream",
     "text": [
      "-rw-rw-r-- 1 lakshmi lakshmi 113 Sep  4 22:00 Ch6S4F1\n"
     ]
    }
   ],
   "source": [
    "ls -l Ch6S4F1"
   ]
  },
  {
   "cell_type": "code",
   "execution_count": 4,
   "metadata": {},
   "outputs": [
    {
     "name": "stdout",
     "output_type": "stream",
     "text": [
      "7 Ch6S4F1\n"
     ]
    }
   ],
   "source": [
    "wc -l Ch6S4F1"
   ]
  },
  {
   "cell_type": "code",
   "execution_count": 5,
   "metadata": {},
   "outputs": [
    {
     "name": "stdout",
     "output_type": "stream",
     "text": [
      "1122 23.55   28\n",
      "1420 12.56   45 \n",
      "1443 23.23   19\n",
      "2341 45.12   34\n",
      "2351 67.90   56\n",
      "3456 14.56   22\n",
      "8001 7.00    14\n"
     ]
    }
   ],
   "source": [
    "sort +0 -1 Ch6S4F1"
   ]
  },
  {
   "cell_type": "code",
   "execution_count": 8,
   "metadata": {},
   "outputs": [
    {
     "name": "stdout",
     "output_type": "stream",
     "text": [
      "2351 67.90   56\n"
     ]
    }
   ],
   "source": [
    "sort +1 -2nr Ch6S4F1 | head -1"
   ]
  },
  {
   "cell_type": "code",
   "execution_count": 10,
   "metadata": {},
   "outputs": [
    {
     "name": "stdout",
     "output_type": "stream",
     "text": [
      "2351\n"
     ]
    }
   ],
   "source": [
    "sort +2 -nr Ch6S4F1| head -1 | cut -c1-4"
   ]
  },
  {
   "cell_type": "markdown",
   "metadata": {},
   "source": [
    "# Exercise 5\n",
    "1.  Launch a terminal.\n",
    "2.  Use the cat command to copy file Ch6S4F1 and name it Ch6S5F1.\n",
    "3.  Use the cat command to create and save the following file. Do not type the headings. Call it Ch6S5F2.\n",
    "```\n",
    "ID   Hourly Rate     Hours Worked\n",
    "1420 12.56   45\n",
    "2456 14.56   22\n",
    "2341 45.12   34\n",
    "1322 23.56   28\n",
    "1443 23.23   19\n",
    "2351 67.90   56\n",
    "3467 56.90   14\n",
    "```\n",
    "4.  Use the cat command to check the contents of both files.\n",
    "5.  Use vi to correct any errors.\n",
    "6.  Dispplay both files.\n",
    "7.  Sort each file using the file id as the sort key. Save the sorted files as separate files.\n",
    "8.  Use a command to merge two files created in step 7 on the id field. Call the new file Ch6S5F3.\n",
    "9.  Use a command to remove the duplicate from the file and Save it without renaming it.\n",
    "10.  Display the file.\n",
    "11.  Quit the terminal."
   ]
  },
  {
   "cell_type": "code",
   "execution_count": 11,
   "metadata": {},
   "outputs": [],
   "source": [
    "cat Ch6S4F1 > Ch6S5F1"
   ]
  },
  {
   "cell_type": "code",
   "execution_count": 12,
   "metadata": {},
   "outputs": [
    {
     "name": "stdout",
     "output_type": "stream",
     "text": [
      "1420 12.56   45 \n",
      "3456 14.56   22\n",
      "2341 45.12   34\n",
      "1122 23.55   28\n",
      "1443 23.23   19\n",
      "2351 67.90   56\n",
      "8001 7.00    14\n"
     ]
    }
   ],
   "source": [
    "cat Ch6S5F1"
   ]
  },
  {
   "cell_type": "code",
   "execution_count": 14,
   "metadata": {},
   "outputs": [
    {
     "name": "stdout",
     "output_type": "stream",
     "text": [
      "1420 12.56   45\n",
      "2456 14.56   22\n",
      "2341 45.12   34\n",
      "1322 23.56   28\n",
      "1443 23.23   19\n",
      "2351 67.90   56\n",
      "3467 56.90   14\n",
      "\n"
     ]
    }
   ],
   "source": [
    "cat Ch6S5F2"
   ]
  },
  {
   "cell_type": "code",
   "execution_count": 15,
   "metadata": {},
   "outputs": [
    {
     "name": "stdout",
     "output_type": "stream",
     "text": [
      "-rw-r--r-- 1 lakshmi lakshmi 113 Sep  4 22:07 Ch6S5F1\n",
      "-rw-rw-r-- 1 lakshmi lakshmi 113 Sep  4 22:06 Ch6S5F2\n"
     ]
    }
   ],
   "source": [
    "ls -l Ch6S5*"
   ]
  },
  {
   "cell_type": "code",
   "execution_count": 28,
   "metadata": {},
   "outputs": [],
   "source": [
    "sort +0 -1 Ch6S5F1 > Ch6S5F1s"
   ]
  },
  {
   "cell_type": "code",
   "execution_count": 29,
   "metadata": {},
   "outputs": [],
   "source": [
    "sort +0 -1 Ch6S5F2 > Ch6S5F2s"
   ]
  },
  {
   "cell_type": "code",
   "execution_count": 30,
   "metadata": {},
   "outputs": [
    {
     "name": "stdout",
     "output_type": "stream",
     "text": [
      "1122 23.55   28\n",
      "1420 12.56   45 \n",
      "1443 23.23   19\n",
      "2341 45.12   34\n",
      "2351 67.90   56\n",
      "3456 14.56   22\n",
      "8001 7.00    14\n"
     ]
    }
   ],
   "source": [
    "cat Ch6S5F1s"
   ]
  },
  {
   "cell_type": "code",
   "execution_count": 31,
   "metadata": {},
   "outputs": [
    {
     "name": "stdout",
     "output_type": "stream",
     "text": [
      "\n",
      "1322 23.56   28\n",
      "1420 12.56   45\n",
      "1443 23.23   19\n",
      "2341 45.12   34\n",
      "2351 67.90   56\n",
      "2456 14.56   22\n",
      "3467 56.90   14\n"
     ]
    }
   ],
   "source": [
    "cat Ch6S5F2s"
   ]
  },
  {
   "cell_type": "code",
   "execution_count": 36,
   "metadata": {},
   "outputs": [],
   "source": [
    "sort -m Ch6S5F1s Ch6S5F2s | uniq > Ch6S5F3"
   ]
  },
  {
   "cell_type": "code",
   "execution_count": 37,
   "metadata": {},
   "outputs": [
    {
     "name": "stdout",
     "output_type": "stream",
     "text": [
      "1122 23.55   28\n",
      "1322 23.56   28\n",
      "1420 12.56   45\n",
      "1443 23.23   19\n",
      "2341 45.12   34\n",
      "2351 67.90   56\n",
      "2456 14.56   22\n",
      "3456 14.56   22\n",
      "3467 56.90   14\n",
      "8001 7.00    14\n"
     ]
    }
   ],
   "source": [
    "cat Ch6S5F3"
   ]
  },
  {
   "cell_type": "markdown",
   "metadata": {},
   "source": [
    "# Exercise 6\n",
    "1.  Launch a terminal.\n",
    "2.  Use the cat command to create and save the following file. Do not type the headings. Call it C6S6F1.\n",
    "```\n",
    "Department   Course    Session    Enrollment\n",
    "CIS     15      1       45\n",
    "CIS     54      1       20\n",
    "BUS     34      2       20\n",
    "ENG     11      2       89\n",
    "CIS     45      1       38\n",
    "MTH     35      1       56\n",
    "MTH     35      2       41\n",
    "PE      17      2       25\n",
    "CIS     54      2       67\n",
    "```\n",
    "3.  Use the cat command to check the contents of the file.\n",
    "4.  Use vi to correct any errors.\n",
    "5.  Display the file.\n",
    "6.  Use one command to sort the file on department course and session.  The resulting file should be ordered first by department; within equal departments, it should be ordered on course; and within equal courses, it should be ordered by session.  Hint: use three field specifiers: department, course, and session.\n",
    "7.  Display the file.\n",
    "8.  Quit the terminal"
   ]
  },
  {
   "cell_type": "code",
   "execution_count": 1,
   "metadata": {},
   "outputs": [
    {
     "name": "stdout",
     "output_type": "stream",
     "text": [
      "CIS     15      1       45\n",
      "CIS     54      1       20\n",
      "BUS     34      2       20\n",
      "ENG     11      2       89\n",
      "CIS     45      1       38\n",
      "MTH     35      1       56\n",
      "MTH     35      2       41\n",
      "PE      17      2       25\n",
      "CIS     54      2       67\n",
      "\n"
     ]
    }
   ],
   "source": [
    "cat C6S6F1"
   ]
  },
  {
   "cell_type": "code",
   "execution_count": 2,
   "metadata": {},
   "outputs": [
    {
     "name": "stdout",
     "output_type": "stream",
     "text": [
      "-rw-rw-r-- 1 lakshmi lakshmi 244 Sep  5 14:43 C6S6F1\n"
     ]
    }
   ],
   "source": [
    "ls -l C6S6F1"
   ]
  },
  {
   "cell_type": "code",
   "execution_count": 3,
   "metadata": {},
   "outputs": [
    {
     "name": "stdout",
     "output_type": "stream",
     "text": [
      "\n",
      "BUS     34      2       20\n",
      "CIS     15      1       45\n",
      "CIS     45      1       38\n",
      "CIS     54      1       20\n",
      "CIS     54      2       67\n",
      "ENG     11      2       89\n",
      "MTH     35      1       56\n",
      "MTH     35      2       41\n",
      "PE      17      2       25\n"
     ]
    }
   ],
   "source": [
    "sort +0 C6S6F1"
   ]
  },
  {
   "cell_type": "markdown",
   "metadata": {},
   "source": [
    "# Exercise 7\n",
    "1.  Launch a terminal.\n",
    "2.  Make a copy of /etc /passwd file and save it in a file called Ch6S7F1.\n",
    "3.  Use a command to count the number of users in this file. Make a note of it.\n",
    "4.  Cut the file so that each line has only two columns: login name (column 1) and user id (column 3). Call the new file Ch6S7F2.\n",
    "5.  Sort the file (Ch6S7F2) on login name without renaming it. Save the file.\n",
    "6.  Use the commands you have learned so far to reorganize the file Ch6S7F2 into six columns using the following format: \n",
    "```\n",
    "Name id Name id Name id\n",
    "```\n",
    "Note that you should divide the number of users by three to find out the number of lines 1n this new format. You should create three files and then paste them together\n",
    "7.  Quit the terminl."
   ]
  },
  {
   "cell_type": "code",
   "execution_count": 4,
   "metadata": {},
   "outputs": [],
   "source": [
    "cat /etc/passwd > Ch6S7F1"
   ]
  },
  {
   "cell_type": "code",
   "execution_count": 5,
   "metadata": {},
   "outputs": [
    {
     "name": "stdout",
     "output_type": "stream",
     "text": [
      "root:x:0:0:root:/root:/bin/bash\n",
      "daemon:x:1:1:daemon:/usr/sbin:/usr/sbin/nologin\n",
      "bin:x:2:2:bin:/bin:/usr/sbin/nologin\n",
      "sys:x:3:3:sys:/dev:/usr/sbin/nologin\n",
      "sync:x:4:65534:sync:/bin:/bin/sync\n",
      "games:x:5:60:games:/usr/games:/usr/sbin/nologin\n",
      "man:x:6:12:man:/var/cache/man:/usr/sbin/nologin\n",
      "lp:x:7:7:lp:/var/spool/lpd:/usr/sbin/nologin\n",
      "mail:x:8:8:mail:/var/mail:/usr/sbin/nologin\n",
      "news:x:9:9:news:/var/spool/news:/usr/sbin/nologin\n",
      "uucp:x:10:10:uucp:/var/spool/uucp:/usr/sbin/nologin\n",
      "proxy:x:13:13:proxy:/bin:/usr/sbin/nologin\n",
      "www-data:x:33:33:www-data:/var/www:/usr/sbin/nologin\n",
      "backup:x:34:34:backup:/var/backups:/usr/sbin/nologin\n",
      "list:x:38:38:Mailing List Manager:/var/list:/usr/sbin/nologin\n",
      "irc:x:39:39:ircd:/var/run/ircd:/usr/sbin/nologin\n",
      "gnats:x:41:41:Gnats Bug-Reporting System (admin):/var/lib/gnats:/usr/sbin/nologin\n",
      "nobody:x:65534:65534:nobody:/nonexistent:/usr/sbin/nologin\n",
      "systemd-network:x:100:102:systemd Network Management,,,:/run/systemd/netif:/usr/sbin/nologin\n",
      "systemd-resolve:x:101:103:systemd Resolver,,,:/run/systemd/resolve:/usr/sbin/nologin\n",
      "syslog:x:102:106::/home/syslog:/usr/sbin/nologin\n",
      "messagebus:x:103:107::/nonexistent:/usr/sbin/nologin\n",
      "_apt:x:104:65534::/nonexistent:/usr/sbin/nologin\n",
      "uuidd:x:105:111::/run/uuidd:/usr/sbin/nologin\n",
      "avahi-autoipd:x:106:112:Avahi autoip daemon,,,:/var/lib/avahi-autoipd:/usr/sbin/nologin\n",
      "usbmux:x:107:46:usbmux daemon,,,:/var/lib/usbmux:/usr/sbin/nologin\n",
      "dnsmasq:x:108:65534:dnsmasq,,,:/var/lib/misc:/usr/sbin/nologin\n",
      "rtkit:x:109:114:RealtimeKit,,,:/proc:/usr/sbin/nologin\n",
      "cups-pk-helper:x:110:116:user for cups-pk-helper service,,,:/home/cups-pk-helper:/usr/sbin/nologin\n",
      "speech-dispatcher:x:111:29:Speech Dispatcher,,,:/var/run/speech-dispatcher:/bin/false\n",
      "whoopsie:x:112:117::/nonexistent:/bin/false\n",
      "kernoops:x:113:65534:Kernel Oops Tracking Daemon,,,:/:/usr/sbin/nologin\n",
      "saned:x:114:119::/var/lib/saned:/usr/sbin/nologin\n",
      "pulse:x:115:120:PulseAudio daemon,,,:/var/run/pulse:/usr/sbin/nologin\n",
      "avahi:x:116:122:Avahi mDNS daemon,,,:/var/run/avahi-daemon:/usr/sbin/nologin\n",
      "colord:x:117:123:colord colour management daemon,,,:/var/lib/colord:/usr/sbin/nologin\n",
      "hplip:x:118:7:HPLIP system user,,,:/var/run/hplip:/bin/false\n",
      "geoclue:x:119:124::/var/lib/geoclue:/usr/sbin/nologin\n",
      "gnome-initial-setup:x:120:65534::/run/gnome-initial-setup/:/bin/false\n",
      "gdm:x:121:125:Gnome Display Manager:/var/lib/gdm3:/bin/false\n",
      "lakshmi:x:1000:1000:Lakshmi Priya,,,:/home/lakshmi:/bin/bash\n"
     ]
    }
   ],
   "source": [
    "cat Ch6S7F1"
   ]
  },
  {
   "cell_type": "code",
   "execution_count": 6,
   "metadata": {},
   "outputs": [
    {
     "name": "stdout",
     "output_type": "stream",
     "text": [
      "41 Ch6S7F1\n"
     ]
    }
   ],
   "source": [
    "wc -l Ch6S7F1"
   ]
  },
  {
   "cell_type": "code",
   "execution_count": 8,
   "metadata": {},
   "outputs": [],
   "source": [
    "cut -f1,3 -d\":\" Ch6S7F1 > Ch6S7F2"
   ]
  },
  {
   "cell_type": "code",
   "execution_count": 9,
   "metadata": {},
   "outputs": [
    {
     "name": "stdout",
     "output_type": "stream",
     "text": [
      "root:0\n",
      "daemon:1\n",
      "bin:2\n",
      "sys:3\n",
      "sync:4\n",
      "games:5\n",
      "man:6\n",
      "lp:7\n",
      "mail:8\n",
      "news:9\n",
      "uucp:10\n",
      "proxy:13\n",
      "www-data:33\n",
      "backup:34\n",
      "list:38\n",
      "irc:39\n",
      "gnats:41\n",
      "nobody:65534\n",
      "systemd-network:100\n",
      "systemd-resolve:101\n",
      "syslog:102\n",
      "messagebus:103\n",
      "_apt:104\n",
      "uuidd:105\n",
      "avahi-autoipd:106\n",
      "usbmux:107\n",
      "dnsmasq:108\n",
      "rtkit:109\n",
      "cups-pk-helper:110\n",
      "speech-dispatcher:111\n",
      "whoopsie:112\n",
      "kernoops:113\n",
      "saned:114\n",
      "pulse:115\n",
      "avahi:116\n",
      "colord:117\n",
      "hplip:118\n",
      "geoclue:119\n",
      "gnome-initial-setup:120\n",
      "gdm:121\n",
      "lakshmi:1000\n"
     ]
    }
   ],
   "source": [
    "cat Ch6S7F2"
   ]
  },
  {
   "cell_type": "code",
   "execution_count": 10,
   "metadata": {},
   "outputs": [],
   "source": [
    "sort +0 -1 Ch6S7F2 > temp"
   ]
  },
  {
   "cell_type": "code",
   "execution_count": 11,
   "metadata": {},
   "outputs": [],
   "source": [
    "mv temp Ch6S7F2"
   ]
  },
  {
   "cell_type": "code",
   "execution_count": 12,
   "metadata": {},
   "outputs": [
    {
     "name": "stdout",
     "output_type": "stream",
     "text": [
      "_apt:104\n",
      "avahi:116\n",
      "avahi-autoipd:106\n",
      "backup:34\n",
      "bin:2\n",
      "colord:117\n",
      "cups-pk-helper:110\n",
      "daemon:1\n",
      "dnsmasq:108\n",
      "games:5\n",
      "gdm:121\n",
      "geoclue:119\n",
      "gnats:41\n",
      "gnome-initial-setup:120\n",
      "hplip:118\n",
      "irc:39\n",
      "kernoops:113\n",
      "lakshmi:1000\n",
      "list:38\n",
      "lp:7\n",
      "mail:8\n",
      "man:6\n",
      "messagebus:103\n",
      "news:9\n",
      "nobody:65534\n",
      "proxy:13\n",
      "pulse:115\n",
      "root:0\n",
      "rtkit:109\n",
      "saned:114\n",
      "speech-dispatcher:111\n",
      "sync:4\n",
      "sys:3\n",
      "syslog:102\n",
      "systemd-network:100\n",
      "systemd-resolve:101\n",
      "usbmux:107\n",
      "uucp:10\n",
      "uuidd:105\n",
      "whoopsie:112\n",
      "www-data:33\n"
     ]
    }
   ],
   "source": [
    "cat Ch6S7F2"
   ]
  },
  {
   "cell_type": "code",
   "execution_count": 13,
   "metadata": {},
   "outputs": [],
   "source": [
    "head -14 Ch6S7F2 > temp1"
   ]
  },
  {
   "cell_type": "code",
   "execution_count": 14,
   "metadata": {},
   "outputs": [],
   "source": [
    "tail -13 Ch6S7F2 > temp3"
   ]
  },
  {
   "cell_type": "code",
   "execution_count": 15,
   "metadata": {},
   "outputs": [],
   "source": [
    "tail -28 Ch6S7F2 | head -14 > temp2"
   ]
  },
  {
   "cell_type": "code",
   "execution_count": 16,
   "metadata": {},
   "outputs": [
    {
     "name": "stdout",
     "output_type": "stream",
     "text": [
      "_apt:104\tgnome-initial-setup:120\trtkit:109\n",
      "avahi:116\thplip:118\tsaned:114\n",
      "avahi-autoipd:106\tirc:39\tspeech-dispatcher:111\n",
      "backup:34\tkernoops:113\tsync:4\n",
      "bin:2\tlakshmi:1000\tsys:3\n",
      "colord:117\tlist:38\tsyslog:102\n",
      "cups-pk-helper:110\tlp:7\tsystemd-network:100\n",
      "daemon:1\tmail:8\tsystemd-resolve:101\n",
      "dnsmasq:108\tman:6\tusbmux:107\n",
      "games:5\tmessagebus:103\tuucp:10\n",
      "gdm:121\tnews:9\tuuidd:105\n",
      "geoclue:119\tnobody:65534\twhoopsie:112\n",
      "gnats:41\tproxy:13\twww-data:33\n",
      "gnome-initial-setup:120\tpulse:115\t\n"
     ]
    }
   ],
   "source": [
    "paste temp1 temp2 temp3"
   ]
  }
 ],
 "metadata": {
  "kernelspec": {
   "display_name": "Bash",
   "language": "bash",
   "name": "bash"
  },
  "language_info": {
   "codemirror_mode": "shell",
   "file_extension": ".sh",
   "mimetype": "text/x-sh",
   "name": "bash"
  }
 },
 "nbformat": 4,
 "nbformat_minor": 2
}
